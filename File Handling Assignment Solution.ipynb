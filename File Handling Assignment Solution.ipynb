{
 "cells": [
  {
   "cell_type": "markdown",
   "id": "c9fff6b2-de22-4466-8385-e3123ff85b76",
   "metadata": {},
   "source": [
    "# Files, exceptional handling, logging and memory management Questions"
   ]
  },
  {
   "cell_type": "markdown",
   "id": "c2fb6cde-ebd0-4e4f-92c6-8d1823147a4d",
   "metadata": {},
   "source": [
    "#### 1. What is the difference between interpreted and compiled languages."
   ]
  },
  {
   "cell_type": "markdown",
   "id": "4652ed4e-a90e-4315-b9f0-bd4c17b1f495",
   "metadata": {},
   "source": [
    "Interpreted Language: Sourse code is executed directly by interpreter line by line without intermediate machine code is generated. It is slower then compiled language becuse the interpretation happens every time when the program is run and error dected at run time which leads to stop the program when error is occured. eg Python.\n",
    "\n",
    "Compiled language : The sourse code is translated to byte machine code first then its run since errors are found at the compile time which make it faster then interpreter. eg C,C++"
   ]
  },
  {
   "cell_type": "markdown",
   "id": "23495472-9368-446e-8d50-db6dec3b3745",
   "metadata": {},
   "source": [
    "#### 2. What is exception handling in Python?"
   ]
  },
  {
   "cell_type": "markdown",
   "id": "45114965-8d8c-4dd7-82c3-20bb9f988bc8",
   "metadata": {},
   "source": [
    "Exception handling is a mechanism to handle errors or exception when the program is in execution. It helps programer to or devloper to manage the situation when unexpected error occured at the execution and ensure that program dose't crash. There are lots of in-buit error detection programs such that 'ZeroDivisionError', 'ValueError' and many more which is in Exception class os python ferther more developers are able to make their custom exception handling class by inheriting the 'Exception' class provided py python."
   ]
  },
  {
   "cell_type": "markdown",
   "id": "2f04968b-4989-4680-b589-373f681a7d62",
   "metadata": {},
   "source": [
    "#### 3. What is the purpose of the finally block in exception handling?"
   ]
  },
  {
   "cell_type": "markdown",
   "id": "ea162afc-9764-4da5-807e-2178aaf22927",
   "metadata": {},
   "source": [
    "'finally' block in exception handling ensures that specific code executes wehether an error occured at the time of execution or not. which means it makes \n",
    "that the task must be completed under any situation like closing file and clean up the resources."
   ]
  },
  {
   "cell_type": "markdown",
   "id": "7b2dda1b-c102-41e0-8043-fa0a4abd66d2",
   "metadata": {},
   "source": [
    "#### 4. What is logging in Python?"
   ]
  },
  {
   "cell_type": "markdown",
   "id": "797ec0c3-ea16-4a00-b826-524d5fa9dfcd",
   "metadata": {},
   "source": [
    "Logging is a machenism for keeping track that happen when some softwere runs. it's important for softwere devloping, debugging and running. If we don't have any logging record and our program crashed, then there ar efew chances that we dectect the cause of the problem. And further if we got the cause it will take a lot of time but by the help of logging we keep track if something gone wrong, we can determine the cause of the problem."
   ]
  },
  {
   "cell_type": "markdown",
   "id": "232de46e-d36b-4d9f-acfe-dd478f285b12",
   "metadata": {},
   "source": [
    "#### 5. What is the significance of the \\__del__ method in Python?"
   ]
  },
  {
   "cell_type": "markdown",
   "id": "17233de3-f6b8-4c4e-a19b-58adbed01ed1",
   "metadata": {},
   "source": [
    "The \\_\\_del__ method in python also known as distructor which is autometicaly called when an object is about to distroyed. Its puspose is to clean memory which may be used in some other operations."
   ]
  },
  {
   "cell_type": "markdown",
   "id": "f3d23882-0b52-4017-9ccc-cb1a6cf98c03",
   "metadata": {},
   "source": [
    "#### 6. What is the difference between import and from ... import in Python?"
   ]
  },
  {
   "cell_type": "markdown",
   "id": "9d3eccc6-729f-4400-ace7-94d5615dbd89",
   "metadata": {},
   "source": [
    "'import' statement imports the entire module and we can use the funcationality of that particuar module by mudule_name.functioanlity_name() like when we import math module then we can able to use the the squre root fucationality using math.sqrt().\n",
    "\n",
    "'from import' will be imports the specific funcanility or attribute or clases from that particular module directy insted of importing the whole funcationality like when we use 'from math import sqrt' means we can use square root calculation by writing sqrt(data)."
   ]
  },
  {
   "cell_type": "markdown",
   "id": "58e9ef4e-1f62-40b6-91ff-481eeb7785e4",
   "metadata": {},
   "source": [
    "#### 7. How can you handle multiple exceptions in Python?"
   ]
  },
  {
   "cell_type": "markdown",
   "id": "6c5fed95-b5fd-47d6-8ef4-da1efd517ecd",
   "metadata": {},
   "source": [
    "We can handle multiple exception by multiple except block or specific handeler or by combining both specific and generic handeler.\n",
    "\n",
    "examples:\n",
    "\n",
    "try:\n",
    "// statements\n",
    "except Exception as e:\n",
    "// Error Statement \n",
    "-> Here Exception is a class where all the exceptions are included by python\n",
    "\n",
    "try:\n",
    "#statements\n",
    "except (combination specific exception handeler) as e:\n",
    "// Error Statement"
   ]
  },
  {
   "cell_type": "markdown",
   "id": "4ba08e9a-c3a0-42d7-88e8-b2a17bb2f8c1",
   "metadata": {},
   "source": [
    "#### 8. What is the purpose of the with statement when handling files in Python?"
   ]
  },
  {
   "cell_type": "markdown",
   "id": "ddda5637-b9ce-4f29-a78a-f2c8e786639e",
   "metadata": {},
   "source": [
    "'with' statement ensures that the file must be closed when its open and all the works are done becuse when ever we open a file and forget to close it then data of file may by distroyed or currepted and we know that the value of data. So we don't have to close file explicitly and it also make our code more redable and consine."
   ]
  },
  {
   "cell_type": "markdown",
   "id": "1340e0de-5eea-4643-b51f-3d1d853bb849",
   "metadata": {},
   "source": [
    "#### 9. What is the difference between multithreading and multiprocessing"
   ]
  },
  {
   "cell_type": "markdown",
   "id": "b1185e08-a48b-4693-829f-9878bd86e20d",
   "metadata": {},
   "source": [
    "Multithreading : This involves multiple threads within a single process. Threads share the same memory space and resources of the process, which allows for efficient communication and data sharing. It can be more complex to implement due to the need of synchronization.\n",
    "\n",
    "Multiprocessing : This involves multiple processes, each with its own memory space. Processes do not share memory directly, which can lead to more overhead in terms of inter-process communication. It is more simpe in terms of resource managemrnt becuse process do not share memeory."
   ]
  },
  {
   "cell_type": "markdown",
   "id": "70467483-6fd3-4380-be03-101af1795651",
   "metadata": {},
   "source": [
    "#### 10. What are the advantages of using logging in a program"
   ]
  },
  {
   "cell_type": "markdown",
   "id": "0c9adc98-2e93-42f1-a8f5-97c3c99d7dee",
   "metadata": {},
   "source": [
    "Logging helps in debussing and troubleshooting like error tracking as it help to identify and track errors or exceptions that occure during execution becuse it support differetn levels of logging which helps to categorize messages based on their severity. liek DEBUG which helps to give detailed information when diagnosing the problem, INFO which used to confirm that things ar eworking as expected, WARNING which used as indication that something unexpected happened, ERROR which tells that there is more cerious problem and CRITICAL which ocure due to serious error. "
   ]
  },
  {
   "cell_type": "markdown",
   "id": "c71de330-9ba0-4e0d-971d-2a24f8836724",
   "metadata": {},
   "source": [
    "#### 11. What is memory management in Python?"
   ]
  },
  {
   "cell_type": "markdown",
   "id": "24b866c1-c4cc-4454-b595-7e3620e87e09",
   "metadata": {},
   "source": [
    "Memory management in python is the process of handling memory aocation, deallocation, and garbage collection autometically to optimize performrnce and prevent memory leaks. It's uses combination of efrence counting, garbage collection, and dynamic memory allocation to manage memory efficiently. It use memory optimization techniques becuse it suse generators insted of list for lagre data processing."
   ]
  },
  {
   "cell_type": "markdown",
   "id": "3bdaa247-2976-4cf1-bd93-588e75198ae6",
   "metadata": {},
   "source": [
    "#### 12. What are the basic steps involved in exception handling in Python?"
   ]
  },
  {
   "cell_type": "markdown",
   "id": "1e76c716-cd6f-4298-9ed5-550ad389a092",
   "metadata": {},
   "source": [
    "When ever we have some dout or not sure about the situation while writing the code the written satatement can arise any error then we put this condotion in 'try' block and when everything is fine then that bloak of code will be executed but when its arise any error we have to handle, so we handle in 'except' block and then we can use 'else' block which is optional and this block will be executed when there is no any error or exception further more we can use 'finally' block which is going to executed in any cercumstances or situation."
   ]
  },
  {
   "cell_type": "markdown",
   "id": "f25b1e11-bd6a-4df3-bd92-d169b2ba2cc7",
   "metadata": {},
   "source": [
    "#### 13. Why is memory management important in Python?"
   ]
  },
  {
   "cell_type": "markdown",
   "id": "18e30f55-2e89-4cbf-a5ea-2901b1b777d2",
   "metadata": {},
   "source": [
    "Memory management in python playes vital role for performance optimization, efficient resource usage and priventing memory leaks. Since pyhton autometically handles memory allocation and deallocation, understanding its memory management helps developers write better, more efficient programs. \n",
    "Importance---\n",
    "1. It prevent memory leaks becuse memory leaks occure when memory is not relesed, leading to excessive memory consumption.\n",
    "2. Efficient memory allocation leads to faster execution and lower memory consumption. and many more.."
   ]
  },
  {
   "cell_type": "markdown",
   "id": "9c770606-3b7f-4b90-aee6-8a9bdfe8b747",
   "metadata": {},
   "source": [
    "#### 14. What is the role of try and except in exception handling?"
   ]
  },
  {
   "cell_type": "markdown",
   "id": "83054e48-9cff-439e-aef6-644701de0ba2",
   "metadata": {},
   "source": [
    "The 'try' and 'except' bocks are work together to handle exceptions.\n",
    "try block contains that code which might raise an error during the execution of the program, when any error occured then python stops the execution code in try block and jumps to 'except' block where we define specific exception or generic exception and this block defines how to respond to that error such that ValueError, ZeroDivisionError. If try block does't have any error then except block will be skiped by python and countinue the flow of program."
   ]
  },
  {
   "cell_type": "markdown",
   "id": "66c1a8ff-0cc9-474d-81c9-458de4ea5f10",
   "metadata": {},
   "source": [
    "#### 15. How does Python's garbage collection system work"
   ]
  },
  {
   "cell_type": "markdown",
   "id": "bcf583b0-f7ba-4879-addc-31bf5fa6677e",
   "metadata": {},
   "source": [
    "Python's garbage collection system is designed to manage memory automatically, helping to reclaim memory that is no longer in use and preventing memory leaks. The garbage collection mechanism in Python primarily consists of two components: reference counting and a cyclic garbage collector.\n",
    "\n",
    "Reference Counting : Every object in Python maintains a count of references to it, known as the reference count. When an object is created, its reference count is set to one. Each time a reference to the object is created, the reference count is incremented. Conversely, when a reference is deleted or goes out of scope, the reference count is decremented.\n",
    "\n",
    "Cyclic References: Reference counting alone cannot handle cyclic references, where two or more objects reference each other, preventing their reference counts from ever reaching zero. For example, if object A references object B and object B references object A, their reference counts will never drop to zero, even if they are no longer accessible from the program."
   ]
  },
  {
   "cell_type": "markdown",
   "id": "72416981-f3b0-4d01-aea1-18613a53605f",
   "metadata": {},
   "source": [
    "#### 16.  What is the purpose of the else block in exception handling?"
   ]
  },
  {
   "cell_type": "markdown",
   "id": "b3965ec3-c864-42d5-a32d-ba1ce17ad925",
   "metadata": {},
   "source": [
    "The purpuse of using 'else' block in exception handling is execute code when there are no any error becuse while the execution of program any error is occured then its cought by 'try' block and error are handled in 'except' block and else block will be skipped."
   ]
  },
  {
   "cell_type": "markdown",
   "id": "8a718c0c-fde1-4256-b1f4-c61377e670fd",
   "metadata": {},
   "source": [
    "#### 17. What are the common logging levels in Python"
   ]
  },
  {
   "cell_type": "markdown",
   "id": "1d582835-c8ad-4bbc-aed8-bb03fef0f097",
   "metadata": {},
   "source": [
    "DEBUG : It provides detailed information for diagnosis problem which is useful during devlopement.\n",
    "\n",
    "INFO : It provides general information about program execution, and also conform that program is working as expected.\n",
    "\n",
    "WARNING : It indicate that something unexpected happens or may be cause issue in he future, but the program can still continue.\n",
    "\n",
    "ERROR : It comes when serious there is any serious issue and some part of the program has faild.\n",
    "\n",
    "CRITICAL : Represents that a server error and the program may not be able to cuntinue running."
   ]
  },
  {
   "cell_type": "markdown",
   "id": "a2a98ce7-cb72-4a69-91bf-c2dbe502db82",
   "metadata": {},
   "source": [
    "#### 18. What is the difference between os.fork() and multiprocessing in Python?"
   ]
  },
  {
   "cell_type": "markdown",
   "id": "03ef88d1-02d4-438c-9ef7-162dd07ddc6a",
   "metadata": {},
   "source": [
    "os.frok : It creates a new child process by duplicating the current process. It only available on Unix based system and not avaiable on windows. The return value is different for parent and child, the parent gets the child's process ID and the child gets .\n",
    "\n",
    "Multiprocessing : This module provides a high level interface for creating and managing multiple processes. It's works on both unix and windows. In this each process runs independently with its own memory space, avoiding the global interpreter lock issue."
   ]
  },
  {
   "cell_type": "markdown",
   "id": "0cb2dec8-fa11-4d3d-9b40-f1e7ee4625f4",
   "metadata": {},
   "source": [
    "#### 19. What is the importance of closing a file in Python?"
   ]
  },
  {
   "cell_type": "markdown",
   "id": "18b3c2be-1eb3-4372-b549-0a415fe50114",
   "metadata": {},
   "source": [
    "Closing a fie is importent to free the resources and data integrity purpose. When we open a file then system allocates some resorce to manage that file as system have limited resource and when we open lots of file then there is a time comes when resources will full which leads to stop the execution of any program and in this type of situation our data amy be currupt."
   ]
  },
  {
   "cell_type": "markdown",
   "id": "f6877060-71f1-470e-b299-4a8a32739e81",
   "metadata": {},
   "source": [
    "#### 20. What is the difference between file.read() and file.readline() in Python ?"
   ]
  },
  {
   "cell_type": "markdown",
   "id": "21bb8ff9-c099-47c9-b5c3-271208fdb636",
   "metadata": {},
   "source": [
    "file.read() and file.readline() both are used to read content from a fie, but they behave differently.\n",
    "\n",
    "file.read() : It reads the entire file as a single string. It can take an optinal argument (size) to read specific number of bytes. It is useful when you want to process the entire file at once.\n",
    "\n",
    "file.readline() : It reads gile line by line means it read only one line at a time. Every file.readline() call is moves the cursior to next line and further reading starts from there to next line. It is useful when dealing large file where reading everything at once is inefficient."
   ]
  },
  {
   "cell_type": "markdown",
   "id": "27097c1d-38b3-41fa-9eb0-85dfd55026f7",
   "metadata": {},
   "source": [
    "#### 21. What is the logging module in Python used for ?"
   ]
  },
  {
   "cell_type": "markdown",
   "id": "1b3278b9-26d0-4ad5-914d-9e8c2d8de039",
   "metadata": {},
   "source": [
    "The logging module in Python is used for recording log messages from applications. It provides a flexible framework for tracking events, debugging, and monitoring application behavior like,\n",
    "Debugging which Helps developers track down issues by logging important events.\n",
    "Monitoring which Logs critical information for system monitoring and performance analysis.\n",
    "Error Handling which Captures errors and warnings instead of printing them to the console.\n",
    "Auditing which Records user activity, transactions, or system changes for security and compliance"
   ]
  },
  {
   "cell_type": "markdown",
   "id": "aee1327e-22ce-4b40-85e3-0f3027090afd",
   "metadata": {},
   "source": [
    "#### 22.  What is the os module in Python used for in file handling?"
   ]
  },
  {
   "cell_type": "markdown",
   "id": "4a555b6c-1a6e-409c-987d-c5426f9c72d3",
   "metadata": {},
   "source": [
    "The os module provides a way to interact with the operating system, including file handling operations such as creating, deleting, and modifying files and directories. We can check where a file exists or not by using os.path.exists(file_path) moreover we can creaet new directry using os.makedirs(\"Dir_Name\") and many more operation can be done using this module."
   ]
  },
  {
   "cell_type": "markdown",
   "id": "687b2510-333d-44bf-bb61-c7d9a5d6f919",
   "metadata": {},
   "source": [
    "#### 23. What are the challenges associated with memory management in Python?"
   ]
  },
  {
   "cell_type": "markdown",
   "id": "d6279034-a003-4874-98f2-5962f8bca508",
   "metadata": {},
   "source": [
    "Python has automatic memory management, but it still presents several challenges that developers need to be aware of:\n",
    "\n",
    "Garbage Collection : Python uses garbage collection (GC) to free memory occupied by unused objects. The GC runs periodically, but frequent GC cycles can cause performance overhead.\n",
    "\n",
    "Reference Cycles : This can prevent objects from being deallocated, causing memory leaks.\n",
    "\n",
    "Memory Leaks : though Python has automatic memory management, memory leaks can still occur when objects remain referenced unintentionally."
   ]
  },
  {
   "cell_type": "markdown",
   "id": "2778c348-82ba-4183-b56a-448cf4129165",
   "metadata": {},
   "source": [
    "#### 24. How do you raise an exception manually in Python?"
   ]
  },
  {
   "cell_type": "markdown",
   "id": "8e053820-e7f7-40c6-9382-e260c1ed91a3",
   "metadata": {},
   "source": [
    "We can manually raise an exception using the raise keyword. This is useful for handling errors or controlling program flow. we You can raise any built-in exception, such as ValueError, TypeError, KeyError and many more by using the statement as 'raise ValueError(\"Massege\")'. We can also raise an exception using try except block. Example:- \n",
    "try:\r\n",
    "    x = 1 / 0\r\n",
    "except ZeroDivisionError as \n",
    "   prit(f\"Caught an err {,eeion\r\n"
   ]
  },
  {
   "cell_type": "markdown",
   "id": "427c8931-250f-42d7-9898-f13e050d288f",
   "metadata": {},
   "source": [
    "#### 25. Why is it important to use multithreading in certain application"
   ]
  },
  {
   "cell_type": "markdown",
   "id": "e3215ecf-daba-418b-9dd1-c7ed9a76d819",
   "metadata": {},
   "source": [
    "Multithreading is useful in applications that need to perform multiple tasks concurrently. It improves performance, responsiveness, and efficiency, especially in I/O-bound tasks. Improve Performance While one thread is waiting for an I/O operation to complete then another thread can continue executing. it enhanced Responsiveness in GUI Applications A single-threaded GUI can freeze when performing tasks like loading data or processing large files."
   ]
  },
  {
   "cell_type": "markdown",
   "id": "5a812ceb-e9b5-4a49-b648-35d87a89de54",
   "metadata": {},
   "source": [
    "# Practical Questions"
   ]
  },
  {
   "cell_type": "markdown",
   "id": "4be4950e-397e-48bd-b4e0-8bbbf1063162",
   "metadata": {},
   "source": [
    "#### 1. How can you open a file for writing in Python and write a string to it?"
   ]
  },
  {
   "cell_type": "code",
   "execution_count": 1,
   "id": "81c8e54e-139e-41dc-8894-39d17183b46c",
   "metadata": {},
   "outputs": [],
   "source": [
    "content = \"Hi my name is Amit.\"\n",
    "with open(\"test_file.txt\",\"w\") as f:\n",
    "    f.write(content)"
   ]
  },
  {
   "cell_type": "markdown",
   "id": "16ddf59d-6f20-40f1-b7e5-e4ffda6d3bfa",
   "metadata": {},
   "source": [
    "#### 2. Write a Python program to read the contents of a file and print each line ?"
   ]
  },
  {
   "cell_type": "code",
   "execution_count": 2,
   "id": "e001f391-3233-459e-96ab-c7c418fccfa2",
   "metadata": {},
   "outputs": [
    {
     "name": "stdout",
     "output_type": "stream",
     "text": [
      "Hi my name is Amit.\n"
     ]
    }
   ],
   "source": [
    "with open(\"test_file.txt\",\"r\") as f:\n",
    "    text = f.read()\n",
    "\n",
    "print(text)"
   ]
  },
  {
   "cell_type": "markdown",
   "id": "5ce355db-f763-4cc2-b8e8-b27d9188f624",
   "metadata": {},
   "source": [
    "#### 3.  How would you handle a case where the file doesn't exist while trying to open it for reading ?"
   ]
  },
  {
   "cell_type": "code",
   "execution_count": 8,
   "id": "cd7e1964-3702-4106-b353-b5714b49efca",
   "metadata": {},
   "outputs": [
    {
     "name": "stdout",
     "output_type": "stream",
     "text": [
      "Sorry test_file2.txt doesn't exist \n"
     ]
    }
   ],
   "source": [
    "def readFile(file):\n",
    "    try:\n",
    "        with open(file,\"r\") as f:\n",
    "            content = f.read()\n",
    "            print(content)\n",
    "    except FileNotFoundError as e:\n",
    "        print(f\"Sorry {file} doesn't exist \")\n",
    "    except Exception as e:\n",
    "        print(f\"There is an error while opening the {file} \",e)\n",
    "\n",
    "\n",
    "file = \"test_file2.txt\"\n",
    "readFile(file)\n",
    "            "
   ]
  },
  {
   "cell_type": "markdown",
   "id": "158a9ca1-0d49-4a8c-9d29-59f472872398",
   "metadata": {},
   "source": [
    "#### 4. Write a Python script that reads from one file and writes its content to another file."
   ]
  },
  {
   "cell_type": "code",
   "execution_count": 20,
   "id": "9d778590-106d-4f84-9e11-d3fba546b489",
   "metadata": {},
   "outputs": [
    {
     "name": "stdout",
     "output_type": "stream",
     "text": [
      "Task Sucessful\n"
     ]
    }
   ],
   "source": [
    "def read_from_other(readFrom):\n",
    "    try:\n",
    "        with open(readFrom,\"r\") as f:\n",
    "            content = f.read()\n",
    "    \n",
    "        with open(\"new_file.txt\",\"w\") as f:\n",
    "            f.write(content)\n",
    "    \n",
    "        return True\n",
    "    except FileNotFoundError as e:\n",
    "        print(f\"Read from file {readFrom} not found.\")\n",
    "        return False\n",
    "    except Exception as e:\n",
    "        print(f\"There is any error.\")\n",
    "        return False\n",
    "\n",
    "file = \"test_file.txt\"\n",
    "if(read_from_other(file)):\n",
    "    print(\"Task Sucessful\")\n",
    "else:\n",
    "    print(\"Unable to do this.\")"
   ]
  },
  {
   "cell_type": "markdown",
   "id": "dd508694-b2c8-4739-8aec-ce9727b06a00",
   "metadata": {},
   "source": [
    "#### 5. How would you catch and handle division by zero error in Python"
   ]
  },
  {
   "cell_type": "code",
   "execution_count": 16,
   "id": "9ac5838a-ce6b-4557-943a-6e77a94e3e90",
   "metadata": {},
   "outputs": [
    {
     "name": "stdout",
     "output_type": "stream",
     "text": [
      "Divisior can't be 0\n"
     ]
    }
   ],
   "source": [
    "def division(divedent, divisior):\n",
    "    try:\n",
    "        result = divedent / divisior\n",
    "        return result\n",
    "    except ZeroDivisionError as e:\n",
    "        print(f\"Divisior can't be 0\")\n",
    "    except Exception as e:\n",
    "        print(f\"Error {e}\")\n",
    "\n",
    "divedent = 10\n",
    "divisior = 0\n",
    "division(divedent, divisior)"
   ]
  },
  {
   "cell_type": "markdown",
   "id": "d4d2eb86-c901-4503-8a4a-52fda3f65b28",
   "metadata": {},
   "source": [
    "#### 6. Write a Python program that logs an error message to a log file when a division by zero exception occurs"
   ]
  },
  {
   "cell_type": "code",
   "execution_count": 18,
   "id": "b728a08a-2996-4c4f-8e6b-f3bc63fa81f4",
   "metadata": {},
   "outputs": [],
   "source": [
    "import logging\n",
    "logging.basicConfig(filename = \"log_error.log\", level = logging.DEBUG, format= '%(asctime)s - %(levelname)s - %(message)s')\n",
    "\n",
    "def division(divedent, divisior):\n",
    "    try:\n",
    "        result = divedent / divisior\n",
    "        return result\n",
    "    except ZeroDivisionError as e:\n",
    "        logging.error(f\"Divisior is {divisior}\")\n",
    "    except Exception as e:\n",
    "        logging.error(f\"There is an unexpected error occured.\")\n",
    "\n",
    "divedent = 10\n",
    "divisior = 0\n",
    "division(divedent, divisior)\n"
   ]
  },
  {
   "cell_type": "markdown",
   "id": "43c1b11f-5cc6-44bd-a4a5-4b21d019e681",
   "metadata": {},
   "source": [
    "#### 7. How do you log information at different levels (INFO, ERROR, WARNING) in Python using the logging module"
   ]
  },
  {
   "cell_type": "code",
   "execution_count": 19,
   "id": "7ef1d994-298b-4b25-868b-1acdad8cec6a",
   "metadata": {},
   "outputs": [],
   "source": [
    "import logging\n",
    "logging.basicConfig(filename = \"log_error.log\", level = logging.DEBUG, format= '%(asctime)s - %(levelname)s - %(message)s')\n",
    "\n",
    "def loggingInformation():\n",
    "    logging.info(\"This is logging info which used for general information\")\n",
    "    logging.error(\"This is logging error which is used when something went wrong\")\n",
    "    logging.warning(\"This is logging warning and used when sonething unexcepted happens\")\n",
    "\n",
    "loggingInformation()\n"
   ]
  },
  {
   "cell_type": "markdown",
   "id": "f962b434-1ecb-437d-a17d-1ab600088b1c",
   "metadata": {},
   "source": [
    "#### 8. Write a program to handle a file opening error using exception handling"
   ]
  },
  {
   "cell_type": "code",
   "execution_count": 21,
   "id": "b122b5c3-ccaf-4b75-8f7e-73cc599fd88c",
   "metadata": {},
   "outputs": [
    {
     "name": "stdout",
     "output_type": "stream",
     "text": [
      "Sorry amit.txt not found\n"
     ]
    }
   ],
   "source": [
    "def openFile(filename):\n",
    "    try:\n",
    "        with open(filename, \"r\") as f:\n",
    "            content = f.read()\n",
    "            print(content)\n",
    "    except FileNotFoundError as e:\n",
    "        print(f\"Sorry {filename} not found\")\n",
    "    except Exception as e:\n",
    "        print(f\"There is any issue while opening {filename}\")\n",
    "\n",
    "file = \"amit.txt\"\n",
    "openFile(file)"
   ]
  },
  {
   "cell_type": "markdown",
   "id": "cb872f06-df29-4ba5-b505-73d871a522f7",
   "metadata": {
    "scrolled": true
   },
   "source": [
    "#### 9. How can you read a file line by line and store its content in a list in Python"
   ]
  },
  {
   "cell_type": "code",
   "execution_count": 27,
   "id": "842db7ba-1405-4642-8f2c-a2c60a6dcc5d",
   "metadata": {},
   "outputs": [
    {
     "name": "stdout",
     "output_type": "stream",
     "text": [
      "['Hi my name is Amit Kumar.\\n', 'I enrolled Data Analytics Coures provided by P/W skills.\\n', \"It's my python fie handling assingment solution.\", '']\n"
     ]
    }
   ],
   "source": [
    "def readIntoList(filename):\n",
    "    content_list = []\n",
    "    try:\n",
    "        with open(filename, \"r\") as f:\n",
    "            while True:\n",
    "                content = f.readline()\n",
    "                content_list.append(content)\n",
    "                if not content:\n",
    "                    break\n",
    "    except FileNotFoundError as e:\n",
    "        content_list.append(f\"Sorry {filename} is not found\")\n",
    "    except Exception as e:\n",
    "        content_list.append(f\"Sorry there is an error whie opening {filename}\")\n",
    "\n",
    "    return content_list\n",
    "\n",
    "file = \"test.txt\"\n",
    "print(readIntoList(file))\n"
   ]
  },
  {
   "cell_type": "markdown",
   "id": "772b3082-2ab8-4990-944f-7fb13b509e85",
   "metadata": {},
   "source": [
    "#### 10. How can you append data to an existing file in Python?"
   ]
  },
  {
   "cell_type": "code",
   "execution_count": 29,
   "id": "370435a0-e698-4077-bd77-8a15e3b5f4bf",
   "metadata": {},
   "outputs": [],
   "source": [
    "def append_data(filename, data):\n",
    "    try:\n",
    "        with open(filename,\"a\") as f:\n",
    "            f.write(data)\n",
    "    except FileNotFoundError as e:\n",
    "        print(f\"{filename} is no found.\")\n",
    "    except Exception as e:\n",
    "        print(f\"There is an issue\",e)\n",
    "\n",
    "data = \"Become a Data Analytics is not a piece of cake.\"\n",
    "file = \"text.txt\"\n",
    "append_data(file, data)"
   ]
  },
  {
   "cell_type": "markdown",
   "id": "e10e030f-3a9f-446a-bed6-848c613cb8d9",
   "metadata": {},
   "source": [
    "#### 11. Write a Python program that uses a try-except block to handle an error when attempting to access a dictionary key that doesn't exist."
   ]
  },
  {
   "cell_type": "code",
   "execution_count": 30,
   "id": "53fcf63e-0025-4ec5-94d2-595557536090",
   "metadata": {},
   "outputs": [
    {
     "name": "stdout",
     "output_type": "stream",
     "text": [
      "age is not exist in this dictionary.\n"
     ]
    }
   ],
   "source": [
    "def accessDictionaryKey(dictionary, key):\n",
    "    try:\n",
    "        result = dictionary[key]\n",
    "        print(result)\n",
    "    except KeyError:\n",
    "        print(f\"{key} is not exist in this dictionary.\")\n",
    "    except Exception as e:\n",
    "        print(\"There is an error\",e)\n",
    "\n",
    "dictionary = {\"Name\":\"Amit\", \"City\":\"Dehradun\"}\n",
    "accessDictionaryKey(dictionary, \"age\")"
   ]
  },
  {
   "cell_type": "markdown",
   "id": "67eb39ce-0c1c-4116-81c1-ed15a50356f5",
   "metadata": {},
   "source": [
    "#### 12. Write a program that demonstrates using multiple except blocks to handle different types of exceptions"
   ]
  },
  {
   "cell_type": "code",
   "execution_count": 34,
   "id": "8a35ef46-6890-491f-9e6c-ec0d133f76a8",
   "metadata": {},
   "outputs": [
    {
     "name": "stdout",
     "output_type": "stream",
     "text": [
      "Either Divisior or Divedent is String plz give integer\n"
     ]
    }
   ],
   "source": [
    "def division(divedent, divisior):\n",
    "    try:\n",
    "        result = divedent / divisior\n",
    "        return result\n",
    "    except ZeroDivisionError as e:\n",
    "        print(f\"Divisior can't be 0\")\n",
    "    except TypeError as e:\n",
    "        print(f\"Either Divisior or Divedent is String plz give integer\")\n",
    "    except Exception as e:\n",
    "        print(f\"There is an unexpected error occured.\")\n",
    "\n",
    "divedent = 10\n",
    "divisior = \"a\"\n",
    "division(divedent, divisior)"
   ]
  },
  {
   "cell_type": "markdown",
   "id": "74dd0507-2ae4-4f29-8b9e-445a7a4b92b6",
   "metadata": {},
   "source": [
    "#### 13. How would you check if a file exists before attempting to read it in Python ?"
   ]
  },
  {
   "cell_type": "code",
   "execution_count": 41,
   "id": "0271b578-b2f4-4711-9115-7698eed89796",
   "metadata": {},
   "outputs": [
    {
     "name": "stdout",
     "output_type": "stream",
     "text": [
      "Error: The file 'text2.txt' does not exist or is not a file.\n"
     ]
    }
   ],
   "source": [
    "from pathlib import Path\n",
    "\n",
    "def check_file_exist_or_not(filename):\n",
    "    file_path = Path(filename)\n",
    "    if file_path.exists() and file_path.is_file():\n",
    "        with file_path.open(\"r\") as file:\n",
    "            content = file.read()\n",
    "            print(content)\n",
    "    else:\n",
    "        print(f\"Error: The file '{filename}' does not exist or is not a file.\")\n",
    "\n",
    "filename = \"text2.txt\"\n",
    "check_file_exist_or_not(filename)\n"
   ]
  },
  {
   "cell_type": "markdown",
   "id": "bed70310-f60b-420f-98df-1f2f609fb66b",
   "metadata": {},
   "source": [
    "#### 14. Write a program that uses the logging module to log both informational and error messages"
   ]
  },
  {
   "cell_type": "code",
   "execution_count": 47,
   "id": "42b30498-8b76-489b-acfa-137cedd5daba",
   "metadata": {},
   "outputs": [
    {
     "name": "stdout",
     "output_type": "stream",
     "text": [
      "None\n"
     ]
    }
   ],
   "source": [
    "import logging\n",
    "logging.basicConfig(level = logging.DEBUG, format= \"%(asctime)s - %(levelname)s - %(message)s\" )\n",
    "handlers=[\n",
    "        logging.StreamHandler(),  # Output log messages to console\n",
    "        logging.FileHandler(\"logging_file.log\")  # Output log messages to a file\n",
    "    ]\n",
    "def division(divedent, divisior):\n",
    "    logging.info(\"Inside the division() function.\")\n",
    "    try:\n",
    "        logging.info(\"Going to divide.\")\n",
    "        result = divedent / divisior\n",
    "        logging.info(\"Division Successful.\")\n",
    "        return result\n",
    "    except ZeroDivisionError as e:\n",
    "        logging.error(f\"Divisior is 0\")\n",
    "    except TypeError as e:\n",
    "        logging.error(f\"Either Divisior or Divedent is String.\")\n",
    "    except Exception as e:\n",
    "        logging.error(f\"There is an unexpected error occured.\")\n",
    "    logging.shutdown()\n",
    "\n",
    "divedent = 10\n",
    "divisior = \"a\"\n",
    "print(division(divedent, divisior))\n",
    "\n"
   ]
  },
  {
   "cell_type": "markdown",
   "id": "eaa44528-676e-4f5b-9408-47d7987401dc",
   "metadata": {},
   "source": [
    "#### 15. Write a Python program that prints the content of a file and handles the case when the file is empty"
   ]
  },
  {
   "cell_type": "code",
   "execution_count": 50,
   "id": "5523583a-4eba-4043-9f8d-dc8837f6f3cc",
   "metadata": {},
   "outputs": [
    {
     "name": "stdout",
     "output_type": "stream",
     "text": [
      "Become a Data Analyst is not a piece of cake.\n"
     ]
    }
   ],
   "source": [
    "def print_file_content(file):\n",
    "    try:\n",
    "        with open(file,\"r\") as f:\n",
    "            content = f.read()\n",
    "\n",
    "        if(len(content) == 0):\n",
    "            print(\"File is Empty\")\n",
    "        else:\n",
    "            print(content)\n",
    "    except FileNotFoundError as e:\n",
    "        print(\"Sorry file not found.\")\n",
    "    except Exception as e:\n",
    "        print(\"Something Wrong!\")\n",
    "\n",
    "file = \"text.txt\"\n",
    "print_file_content(file)\n",
    "        "
   ]
  },
  {
   "cell_type": "markdown",
   "id": "66a300cf-49b9-45a6-89af-e3b04691a6c7",
   "metadata": {},
   "source": [
    "#### 16. Demonstrate how to use memory profiling to check the memory usage of a small program"
   ]
  },
  {
   "cell_type": "code",
   "execution_count": 3,
   "id": "cd6f2bd8-d679-4422-971b-c8b5b19227f6",
   "metadata": {},
   "outputs": [
    {
     "name": "stdout",
     "output_type": "stream",
     "text": [
      "Hi\n",
      "ERROR: Could not find file C:\\Users\\lenovo\\AppData\\Local\\Temp\\ipykernel_10836\\87611854.py\n"
     ]
    }
   ],
   "source": [
    "from memory_profiler import profile\n",
    "\n",
    "@profile\n",
    "def my_function():\n",
    "    a = [i for i in range(1000000)]  # Create a large list to consume memory\n",
    "    b = [i * 2 for i in range(1000000)]  # Create another list\n",
    "    c = sum(a)  # Perform some operations\n",
    "    d = sum(b)\n",
    "    return c, d\n",
    "\n",
    "if __name__ == \"__main__\":\n",
    "    print(\"Hi\")\n",
    "    my_function()\n"
   ]
  },
  {
   "cell_type": "markdown",
   "id": "80e7be13-75c1-4ae6-b5f5-848f6e78eb81",
   "metadata": {},
   "source": [
    "#### 17. Write a Python program to create and write a list of numbers to a file, one number per line"
   ]
  },
  {
   "cell_type": "code",
   "execution_count": 1,
   "id": "514af7a3-0712-4680-8118-0761886bb9a2",
   "metadata": {},
   "outputs": [],
   "source": [
    "def write_list_of_number(file, lists):\n",
    "    with open(file, \"w\") as f:\n",
    "        for i in lists:\n",
    "            f.write(f\"{i}\\n\")\n",
    "\n",
    "li = [1,5,3,6,8,55,44,32,25]\n",
    "file = \"list_to_file.txt\"\n",
    "write_list_of_number(file, li)"
   ]
  },
  {
   "cell_type": "markdown",
   "id": "9f4ad17e-c0d5-41f0-b174-d8c4a9c3affa",
   "metadata": {},
   "source": [
    "#### 18.  How would you implement a basic logging setup that logs to a file with rotation after 1MB"
   ]
  },
  {
   "cell_type": "code",
   "execution_count": 3,
   "id": "3ad98c05-d850-4955-a129-b7d299db4dce",
   "metadata": {},
   "outputs": [],
   "source": [
    "import logging\n",
    "from logging.handlers import RotatingFileHandler\n",
    "\n",
    "LOG_FILENAME = \"app.log\"\n",
    "\n",
    "# Creating a logger\n",
    "logger = logging.getLogger(\"MyLogger\")\n",
    "logger.setLevel(logging.DEBUG)  # Setting the logging level\n",
    "\n",
    "# Create a rotating file handler\n",
    "handler = RotatingFileHandler(\n",
    "    LOG_FILENAME, maxBytes=1_000_000, backupCount=5  # 1MB file size and keeping 5 backups\n",
    ")\n",
    "handler.setLevel(logging.DEBUG)\n",
    "\n",
    "# Creating a formatter and setting it for the handler\n",
    "formatter = logging.Formatter(\n",
    "    \"%(asctime)s - %(name)s - %(levelname)s - %(message)s\"\n",
    ")\n",
    "handler.setFormatter(formatter)\n",
    "\n",
    "# Adding the handler to the logger\n",
    "logger.addHandler(handler)\n",
    "\n",
    "# Example log messages\n",
    "logger.info(\"This is an info message.\")\n",
    "logger.debug(\"This is a debug message.\")\n",
    "logger.warning(\"This is a warning message.\")\n"
   ]
  },
  {
   "cell_type": "markdown",
   "id": "2875ec52-bd4c-4117-ba4a-c69d1ef2324a",
   "metadata": {},
   "source": [
    "#### 19. Write a program that handles both IndexError and KeyError using a try-except block"
   ]
  },
  {
   "cell_type": "code",
   "execution_count": 7,
   "id": "2e2e8bd9-df03-402d-ba29-04a5e45ac483",
   "metadata": {},
   "outputs": [
    {
     "name": "stdout",
     "output_type": "stream",
     "text": [
      "Index error, you trying to get index out of boundry list index out of range\n"
     ]
    }
   ],
   "source": [
    "def func():\n",
    "    li = [1,5,3,6,8,55]\n",
    "    d = {\"name\" : \"Amit\", \"Course\":\"Data Analyst\"}\n",
    "\n",
    "    try:\n",
    "        print(\"Accessing list index which is out of boundry: \",li[len(li)])\n",
    "        print(\"Accessing dictionaty key which is not in dectionary\", d[\"age\"])\n",
    "    except IndexError as e:\n",
    "        print(\"Index error, you trying to get index out of boundry\", e)\n",
    "    except KeyError as e:\n",
    "        print(\"Key error, you trying to get value whose key is not in dictionary.\", e)\n",
    "\n",
    "func()"
   ]
  },
  {
   "cell_type": "markdown",
   "id": "ce29d43c-aa4b-4444-9b4a-c16fd9fdff64",
   "metadata": {},
   "source": [
    "#### 20. How would you open a file and read its contents using a context manager in Python"
   ]
  },
  {
   "cell_type": "code",
   "execution_count": 9,
   "id": "1b4830df-eb79-4350-9ab2-ffb04e0eaedd",
   "metadata": {},
   "outputs": [
    {
     "name": "stdout",
     "output_type": "stream",
     "text": [
      "Become a Data Analyst is not a piece of cake.\n"
     ]
    }
   ],
   "source": [
    "def readContent(file):\n",
    "    try:\n",
    "        with open(file,\"r\") as f:\n",
    "            content = f.read()\n",
    "            print(content)\n",
    "    except FileNotFoundError as e:\n",
    "        print(f\"Sorry {file} doesn't exist \")\n",
    "    except Exception as e:\n",
    "        print(f\"There is an error while opening the {file} \",e)\n",
    "\n",
    "\n",
    "file = \"text.txt\"\n",
    "readContent(file)"
   ]
  },
  {
   "cell_type": "markdown",
   "id": "109c0f9f-615a-4571-a53f-723c66c98ea6",
   "metadata": {},
   "source": [
    "#### 21. Write a Python program that reads a file and prints the number of occurrences of a specific word"
   ]
  },
  {
   "cell_type": "code",
   "execution_count": 12,
   "id": "68297e54-1c59-4c21-979c-7e3d3178d684",
   "metadata": {},
   "outputs": [
    {
     "name": "stdout",
     "output_type": "stream",
     "text": [
      "Total no of occurence of amit is 3\n"
     ]
    }
   ],
   "source": [
    "def print_specific_word_in_file(file, word):\n",
    "    try:\n",
    "        with open(file,\"r\") as f:\n",
    "            content = f.read()\n",
    "            print(f\"Total no of occurence of {word} is {content.count(word)}\")\n",
    "    except FileNotFoundError as e:\n",
    "        print(f\"Sorry {file} doesn't exist \")\n",
    "    except Exception as e:\n",
    "        print(f\"There is an error while opening the {file} \",e)\n",
    "\n",
    "file = \"text.txt\"\n",
    "word = \"amit\"\n",
    "print_specific_word_in_file(file, word)"
   ]
  },
  {
   "cell_type": "markdown",
   "id": "c9afabdd-e21a-4d64-a18f-ad8f3aa2feda",
   "metadata": {},
   "source": [
    "#### 22. How can you check if a file is empty before attempting to read its contents"
   ]
  },
  {
   "cell_type": "code",
   "execution_count": 15,
   "id": "a770825f-4d43-468c-8cd2-ca0ac90c1a1e",
   "metadata": {},
   "outputs": [
    {
     "name": "stdout",
     "output_type": "stream",
     "text": [
      "text.txt is not Empty\n"
     ]
    }
   ],
   "source": [
    "def check_empty(file):\n",
    "    try:\n",
    "        with open(file,\"r\") as f:\n",
    "            content = f.read()\n",
    "            if len(content) == 0:\n",
    "                return True\n",
    "            else:\n",
    "                return False\n",
    "    except FileNotFoundError as e:\n",
    "        print(f\"Sorry {file} doesn't exist \")\n",
    "    except Exception as e:\n",
    "        print(f\"There is an error while opening the {file} \",e)\n",
    "\n",
    "file = \"text.txt\"\n",
    "\n",
    "if(check_empty(file)):\n",
    "    print(f\"{file} is Empty\")\n",
    "else:\n",
    "    print(f\"{file} is not Empty\")"
   ]
  },
  {
   "cell_type": "markdown",
   "id": "49e16d5d-3eac-4041-abb5-0bfc3f0ef1dd",
   "metadata": {},
   "source": [
    "#### 23. Write a Python program that writes to a log file when an error occurs during file handling."
   ]
  },
  {
   "cell_type": "code",
   "execution_count": 19,
   "id": "c6913110-633d-4559-8fb2-9ecfe2d08e53",
   "metadata": {},
   "outputs": [
    {
     "name": "stdout",
     "output_type": "stream",
     "text": [
      "File not found\n"
     ]
    }
   ],
   "source": [
    "import logging\n",
    "logging.basicConfig(filename=\"keep_log_record_error.log\", level= logging.ERROR, format= \"%(asctime)s - %(levelname)s - %(message)s\")\n",
    "\n",
    "def keep_log_record_error(file):\n",
    "    try:\n",
    "        with open(file,\"r\") as f:\n",
    "            content = f.read()\n",
    "            return content\n",
    "    except FileNotFoundError as e:\n",
    "        logging.error(f\"Sorry {file} doesn't exist \")\n",
    "        print(\"File not found\")\n",
    "    except Exception as e:\n",
    "        logging.error(f\"There is an error while opening the {file} \",e)\n",
    "\n",
    "file = \"text2.txt\" # Here text2.txt file doesn't exist\n",
    "keep_log_record_error(file)"
   ]
  },
  {
   "cell_type": "code",
   "execution_count": null,
   "id": "f2a0af30-6e5a-44d3-bb2e-9bb5f90c2bf0",
   "metadata": {},
   "outputs": [],
   "source": []
  }
 ],
 "metadata": {
  "kernelspec": {
   "display_name": "Python 3 (ipykernel)",
   "language": "python",
   "name": "python3"
  },
  "language_info": {
   "codemirror_mode": {
    "name": "ipython",
    "version": 3
   },
   "file_extension": ".py",
   "mimetype": "text/x-python",
   "name": "python",
   "nbconvert_exporter": "python",
   "pygments_lexer": "ipython3",
   "version": "3.11.5"
  },
  "widgets": {
   "application/vnd.jupyter.widget-state+json": {
    "state": {},
    "version_major": 2,
    "version_minor": 0
   }
  }
 },
 "nbformat": 4,
 "nbformat_minor": 5
}
