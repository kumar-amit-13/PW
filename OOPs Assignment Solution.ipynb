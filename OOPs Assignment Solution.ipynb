{
 "cells": [
  {
   "cell_type": "markdown",
   "id": "12f7dd4f-bb7b-4dc1-9c21-bbe5e4ef7d8c",
   "metadata": {},
   "source": [
    "# Python OOPs Questions"
   ]
  },
  {
   "cell_type": "markdown",
   "id": "cc99fa61-12c2-4a3b-8ca1-eabc95fd79ad",
   "metadata": {},
   "source": [
    "#### 1. What is Object-Oriented Programming (OOP)?"
   ]
  },
  {
   "cell_type": "markdown",
   "id": "d2ff642d-41a5-4c33-bfd3-e62c62c4b437",
   "metadata": {},
   "source": [
    "Object orianted programming is a programming that orgnize softwere around objects rather than functions and logic. Objects are instance of a class which define their attributes and behaviour. It helps in complex program as it can be reused accorss different programs."
   ]
  },
  {
   "cell_type": "markdown",
   "id": "c3d5b33e-d377-4e53-a55f-e988d9df0250",
   "metadata": {},
   "source": [
    "#### 2. What is a class in OOP ?"
   ]
  },
  {
   "cell_type": "markdown",
   "id": "7809f985-f6d2-4eca-ba07-821c915838f8",
   "metadata": {},
   "source": [
    "Class is a blue print of an object which defines the attribut and behaviour of object. example - we can see there are lots of cars around us with different coour and brands but they all have some commen property like there are four weels, speed, milage range atc means car is a class and wheels, speed, milage are properties."
   ]
  },
  {
   "cell_type": "markdown",
   "id": "259df050-e027-45fc-a88c-4845573ad76c",
   "metadata": {},
   "source": [
    "#### 3.  What is an object in OOP ?"
   ]
  },
  {
   "cell_type": "markdown",
   "id": "c004f0df-6099-4c64-9bb6-13f84e96cbfb",
   "metadata": {},
   "source": [
    "An object is an instance of a class. It represents a specific implimentation of the class and holds it own data. It consist of State, Behaviour and identity."
   ]
  },
  {
   "cell_type": "markdown",
   "id": "d91b0c1b-86c0-4c2a-924e-277f36b91c5f",
   "metadata": {},
   "source": [
    "#### 4. What is the difference between abstraction and encapsulation ?"
   ]
  },
  {
   "cell_type": "markdown",
   "id": "7f352ab5-a4b3-4fa3-a24b-c53b225dfc36",
   "metadata": {},
   "source": [
    "Abstraction : It is used to hide the unnecessary information or data from the user but it shows the essential data that is useful for the user. It basicaly focused on 'What an does' rather than 'How it does'.\n",
    "\n",
    "Encapsulation : It is a technique for combining data and functions into a single object. In simple word encapsulation is the process of hiding the internal state of an object and requiring all intractions to be performed through an object's method."
   ]
  },
  {
   "cell_type": "markdown",
   "id": "5acf333a-36ea-4997-92f9-12afa77ad0fc",
   "metadata": {},
   "source": [
    "#### 5. What are dunder methods in Python ?"
   ]
  },
  {
   "cell_type": "markdown",
   "id": "5dba9155-7316-4287-97ed-142b76fb2a13",
   "metadata": {},
   "source": [
    "Dunder methods are also known as magic methods or special methods, Python has special rererved methods that are surrounded by double underscores. These methods allow you to define how instance of our class behave when they are used with built in python functions or operators."
   ]
  },
  {
   "cell_type": "markdown",
   "id": "4d2d5271-0622-46df-b472-9c1252a3c46e",
   "metadata": {},
   "source": [
    "#### 6.  Explain the concept of inheritance in OOPs"
   ]
  },
  {
   "cell_type": "markdown",
   "id": "a905325b-4dee-48ee-8b1a-b32fa004a98b",
   "metadata": {},
   "source": [
    "Inheritance is a fundamental concept of oops that allows a class inherit attributes and methods from another class. \n",
    "There are 5 types of inheritance :\n",
    "\n",
    "1. Single Inheritance: when a class has only one parent class said to single inheritance.\n",
    "2. Multiple Inheritance : One chid class inherits several parent class caled multiple inheritance.\n",
    "3. Multilevel Inheritance: When a class inherits a parent class and this chis class also inherited by another class clled multiple inheritance, In simple word when a class inherits a chid class called multilevel inheritance.\n",
    "4. Hirerarchical Inheritancs : When a parent class inherited by mutiple child class called Hirerachical inheritace.\n",
    "5. Hybrid Inheritance : When inheritance consist of mutiple type or a combination of different inheritance is called hybrid inheritance."
   ]
  },
  {
   "cell_type": "markdown",
   "id": "427ef456-3f5d-48c7-8b15-c19ca377a793",
   "metadata": {},
   "source": [
    "#### 7. What is polymorphism in OOP"
   ]
  },
  {
   "cell_type": "markdown",
   "id": "29b3df3f-b017-4bef-a971-fd9f96719295",
   "metadata": {},
   "source": [
    "Polymorphism is a concept in programming language that alloews entities like function, methods or operators to behave differently based on the type of data they are handling. It deriveds from greek where poly means many and morph means form."
   ]
  },
  {
   "cell_type": "markdown",
   "id": "9ea9c309-cd2d-4952-b22e-9b8eb57bb697",
   "metadata": {},
   "source": [
    "#### 8. How is encapsulation achieved in Python ?"
   ]
  },
  {
   "cell_type": "markdown",
   "id": "c6725ed3-e117-49e2-bb43-a6f02ba45f68",
   "metadata": {},
   "source": [
    "We can achived encapsulation in python using private and protected members by prefixing attribue or method with underscore and double underscore where single underscore indicate protected and doube lunderscore means private. As when we apply attribute as protected or private we have to built getter and setter method which is going to give control on protected and private attributes."
   ]
  },
  {
   "cell_type": "markdown",
   "id": "671c24e2-5392-4bb5-b48a-34b379de1c1b",
   "metadata": {},
   "source": [
    "#### 9. What is a constructor in Python ?"
   ]
  },
  {
   "cell_type": "markdown",
   "id": "044047a0-1f74-401e-9d98-08d9e127abbb",
   "metadata": {},
   "source": [
    "Constructor in python is function which execute when a object is created. In python init method is constractor it also called as dendure method. There are different types of constructor like default constructor that doesn't take any argument, furthermore there is a parameterize constructor that take some arguments to intiaize the object while creating and we can make constructor with deafut value its provide that default value when no arguments ae passed to it."
   ]
  },
  {
   "cell_type": "markdown",
   "id": "268ad58e-b122-4fd0-9624-faffa1274cc9",
   "metadata": {},
   "source": [
    "#### 10. What are class and static methods in Python ?"
   ]
  },
  {
   "cell_type": "markdown",
   "id": "d2f815c4-cb5e-4291-a385-5fb2a63b657d",
   "metadata": {},
   "source": [
    "Class method is a method that operates on the class itself rather than an instance of the class. It takes 'cls' as its first parameter and can modify class-level attributes. class methods are defined by @classmethod decorator.\n",
    "\n",
    "A static method is a method that does not depend on the instance (self) or the class (cls). It behaves like a regular function, but it is defined inside a class and belongs to that class. static methods are defined by @staticmethod decorators."
   ]
  },
  {
   "cell_type": "markdown",
   "id": "492ae825-a847-49d0-995c-396e6204aca6",
   "metadata": {},
   "source": [
    "#### 11. What is method overloading in Python ?"
   ]
  },
  {
   "cell_type": "markdown",
   "id": "1bd418f6-9787-44ad-a535-6f42af9fcd71",
   "metadata": {},
   "source": [
    "Method overloading is a process that allows a class have multiple methods by same name but different parameter. But python does not suport traditional method overloading like other programming languages. Insted it handles overloading using default arguments or *args and **kwargs."
   ]
  },
  {
   "cell_type": "markdown",
   "id": "9e6230fc-7892-4f98-a777-14649e2588bd",
   "metadata": {},
   "source": [
    "#### 12. What is method overriding in OOP ?"
   ]
  },
  {
   "cell_type": "markdown",
   "id": "affe8043-1901-4b14-9a1f-8fc472848acb",
   "metadata": {},
   "source": [
    "Method overloading is a process that allows a class have multiple methods by same name but different parameter and they work on the basis of number of arguments passing to that function."
   ]
  },
  {
   "cell_type": "markdown",
   "id": "a5af6dfa-3231-48ef-8f6e-1b9b2c79baa9",
   "metadata": {},
   "source": [
    "#### 13. What is a property decorator in Python ?"
   ]
  },
  {
   "cell_type": "markdown",
   "id": "7d38365f-8e2c-474f-ba1b-bcee124cfe33",
   "metadata": {},
   "source": [
    "Property decorator defines a method as a property, which allows you to access it lik ean attribute. This is useful for encaptulating the implementation of a method while still providing a simple interface."
   ]
  },
  {
   "cell_type": "markdown",
   "id": "cdefb09c-67ae-4230-a646-a2be40467f7b",
   "metadata": {},
   "source": [
    "#### 14. Why is polymorphism important in OOP ?"
   ]
  },
  {
   "cell_type": "markdown",
   "id": "e9c05b74-0dd4-4822-aa79-e71fa4adaa69",
   "metadata": {},
   "source": [
    "Polymorphism is a fundamental concept in Object-Oriented Programming (OOP) that allows objects of different classes to be treated as objects of a common superclass. It is important besuse it provide Code Reusability,  Flexibility and Extensibility, Abstraction, Simplifies Code Maintenance etc."
   ]
  },
  {
   "cell_type": "markdown",
   "id": "02b6ba34-9cda-4fb9-a3c9-3d20a7ac7ec1",
   "metadata": {},
   "source": [
    "#### 15. What is an abstract class in Python ?"
   ]
  },
  {
   "cell_type": "markdown",
   "id": "51f4e16c-dfeb-4a60-9da8-20f7e3d8d795",
   "metadata": {},
   "source": [
    "An abstract class is a class that cannot be instantiated and is meant to be a blueprint for other classes. It contains abstract methods that must be implemented in its subclasses.Abstract classes are defined using the ABC class from the abc module and contain at least one @abstractmethod."
   ]
  },
  {
   "cell_type": "markdown",
   "id": "853b858e-d51b-40c1-a2af-1b37e8f0f640",
   "metadata": {},
   "source": [
    "#### 16. What are the advantages of OOP ?"
   ]
  },
  {
   "cell_type": "markdown",
   "id": "23875f21-7a6f-4368-a90d-72854f8518f9",
   "metadata": {},
   "source": [
    "Object-Oriented Programming (OOP) is a programming paradigm that organizes code into objects. It provides several advantages that make software development more efficient, scalable, and maintainable. OOP promotes code reusability through classes and objects, reducing redundancy. Encapsulation which restricts direct access to data and allows controlled modification."
   ]
  },
  {
   "cell_type": "markdown",
   "id": "ac85da78-7849-42b8-b7a3-cfc065196c6c",
   "metadata": {},
   "source": [
    "#### 17.  What is the difference between a class variable and an instance variable ?"
   ]
  },
  {
   "cell_type": "markdown",
   "id": "b25c32ec-c98e-4c54-bf41-798c405b5d3b",
   "metadata": {},
   "source": [
    "Class Variables : Class variables are variables that are shared across all instances of a class. They belong to the class itself, not to any specific instance. They are defined directly within the class, outside of any methods. Class variables are used to store data that is common to all instances of the class.\n",
    "\n",
    "Instance Variables : Instance variables are variables that belong to a specific instance of a class. Each instance has its own copy of the variable. They are defined inside the 'init' method or other instance methods using self."
   ]
  },
  {
   "cell_type": "markdown",
   "id": "a8f41c6e-bf50-4a57-a144-0b98122b7413",
   "metadata": {},
   "source": [
    "#### 18. What is multiple inheritance in Python ?"
   ]
  },
  {
   "cell_type": "markdown",
   "id": "05e04aa4-e37f-4f1b-ac6a-b4fcb3c54fb7",
   "metadata": {},
   "source": [
    "Multiple inheritance in Python is a feature that allows a class to inherit attributes and methods from more than one parent class. This means a subclass can derive behavior and properties from multiple superclasses. Python supports multiple inheritance, unlike some other programming languages (e.g., Java, which does not support multiple inheritance for classes)."
   ]
  },
  {
   "cell_type": "markdown",
   "id": "f6aafa21-dacc-4121-aa82-c217dada38f4",
   "metadata": {},
   "source": [
    "#### 19.  Explain the purpose of ‘’__str__’ and ‘__repr__’ ‘ methods in Python ?"
   ]
  },
  {
   "cell_type": "markdown",
   "id": "4906030f-4248-4db5-a93b-2aa4cb07bbf2",
   "metadata": {},
   "source": [
    "The \"\\_\\_str__\" method is intended to provide a \"user-friendly\" string representation of an object. It is meant to be readable and understandable by end users. It is called by the str() function and by the print() function when you try to print an object.\n",
    "\n",
    "The \\_\\_repr__ method is intended to provide an official string representation of an object. It is called by the repr() function and by the interactive Python interpreter when you type the object's name.t."
   ]
  },
  {
   "cell_type": "markdown",
   "id": "9d4030b5-62cd-4963-9945-b71616b40d1d",
   "metadata": {},
   "source": [
    "#### 20. What is the significance of the ‘super()’ function in Python ?"
   ]
  },
  {
   "cell_type": "markdown",
   "id": "d10fca0f-e619-41c7-9073-c772361e8771",
   "metadata": {},
   "source": [
    "The super() function is used to call methods from a parent (superclass) in a child (subclass). It is primarily used in inheritance to avoid redundant code and support method overriding."
   ]
  },
  {
   "cell_type": "markdown",
   "id": "98bc2585-f07a-4850-ad1b-6af201d4aafd",
   "metadata": {},
   "source": [
    "#### 21. What is the significance of the \\_\\_del__ method in Python ?"
   ]
  },
  {
   "cell_type": "markdown",
   "id": "aef68a12-254f-4063-b9fb-6b9bf10c5734",
   "metadata": {},
   "source": [
    "The \\_\\_del__ method is a destructor in Python. It is called automatically when an object is deleted or goes out of scope to release resources like memory, files, or database connections."
   ]
  },
  {
   "cell_type": "markdown",
   "id": "a7e8c9ed-ea7a-449c-b639-8d4cd049dc32",
   "metadata": {},
   "source": [
    "#### 22. What is the difference between @staticmethod and @classmethod in Python ?"
   ]
  },
  {
   "cell_type": "markdown",
   "id": "8dfecfd8-6cbf-456c-ab27-6d33057512a7",
   "metadata": {},
   "source": [
    "@staticmethod : A static method is a method that belongs to the class but does not depend on the class or its instances. It behaves like a regular function but is defined inside a class for organizational purposes. A static method does not take any special first argument (like self or cls). It cannot access or modify the class or instance state.\n",
    "\n",
    "@classmethod : A class method is a method that is bound to the class rather than its instances. It takes the class itself as its first argument (conventionally named cls). A class method can access and modify class-level attributes but not instance-specific attributes."
   ]
  },
  {
   "cell_type": "markdown",
   "id": "11623f18-4256-486f-bc53-c899264b85cc",
   "metadata": {},
   "source": [
    "#### 23. How does polymorphism work in Python with inheritance"
   ]
  },
  {
   "cell_type": "markdown",
   "id": "bbafcce8-9023-42c6-9427-c4569c5fa1a4",
   "metadata": {},
   "source": [
    "Polymorphism is a core concept in object-oriented programming (OOP) that allows objects of different classes to be treated as objects of a common superclass. In Python, polymorphism is often achieved through inheritance, where subclasses can override methods of their superclass, allowing for different behaviors while sharing the same interface."
   ]
  },
  {
   "cell_type": "markdown",
   "id": "f3c96e74-5181-43f2-abd7-1a9ba2315858",
   "metadata": {},
   "source": [
    "#### 24. What is method chaining in Python OOP ?"
   ]
  },
  {
   "cell_type": "markdown",
   "id": "c6f298c4-d0b4-436f-b547-5fd170c12e5b",
   "metadata": {},
   "source": [
    "Method chaining is a programming technique in object-oriented programming (OOP) where multiple method calls are made on the same object in a single statement. This is achieved by having each method return the object itself (usually self), allowing the next method to be called directly on the result of the previous method."
   ]
  },
  {
   "cell_type": "markdown",
   "id": "9a32fad8-8059-4294-a039-21ea825a2ca5",
   "metadata": {},
   "source": [
    "#### 25. What is the purpose of the \\_\\_call__ method in Python ?"
   ]
  },
  {
   "cell_type": "markdown",
   "id": "a115861f-13cf-48e0-b999-65f273040348",
   "metadata": {},
   "source": [
    "The \\_\\_call__ method allows an instance of a class to be called as if it were a function. When you define the \\_\\_call__ method in a class, you enable instances of that class to be invoked using parentheses, just like a regular function. This can be useful for a variety of purposes, such as creating callable objects, implementing function-like behavior, or encapsulating state and behavior in a single object."
   ]
  },
  {
   "cell_type": "markdown",
   "id": "1e966f4e-c5b0-469a-8711-3587558bddd9",
   "metadata": {},
   "source": [
    "# Practical Questions"
   ]
  },
  {
   "cell_type": "markdown",
   "id": "4e9ce3e2-3d04-4538-a288-b8dc07142921",
   "metadata": {},
   "source": [
    "#### 1.  Create a parent class Animal with a method speak() that prints a generic message. Create a child class Dog that overrides the speak() method to print \"Bark!\"."
   ]
  },
  {
   "cell_type": "code",
   "execution_count": 42,
   "id": "21c76bd0-d1fe-4596-9b39-c8f5f5726006",
   "metadata": {},
   "outputs": [
    {
     "name": "stdout",
     "output_type": "stream",
     "text": [
      "Bark!\n"
     ]
    }
   ],
   "source": [
    "class Animal:\n",
    "    def speak(self):\n",
    "        print(\"Printing form Animal Class\")\n",
    "\n",
    "class Dog(Animal):\n",
    "    def speak(self):\n",
    "        print(\"Bark!\")\n",
    "\n",
    "obj = Dog()\n",
    "obj.speak()"
   ]
  },
  {
   "cell_type": "markdown",
   "id": "6e41a29f-7d5c-463e-b06e-c6c78573053c",
   "metadata": {},
   "source": [
    "#### 2. Write a program to create an abstract class Shape with a method area(). Derive classes Circle and Rectangle from it and implement the area() method in both."
   ]
  },
  {
   "cell_type": "code",
   "execution_count": 43,
   "id": "dc116c27-affb-4087-8cb7-968ad45c5b68",
   "metadata": {},
   "outputs": [
    {
     "name": "stdout",
     "output_type": "stream",
     "text": [
      "Area of circle is:  153.94\n",
      "Area of Rectangle is :  12\n"
     ]
    }
   ],
   "source": [
    "from abc import ABC, abstractmethod\n",
    "import math\n",
    "\n",
    "class Shape(ABC):\n",
    "    @abstractmethod\n",
    "    def area(self):\n",
    "        pass\n",
    "\n",
    "class Circle(Shape):\n",
    "    def __init__(self, radius):\n",
    "        self.radius = radius\n",
    "\n",
    "    def area(self):\n",
    "        return math.pi * pow(self.radius, 2)\n",
    "\n",
    "class Rectangle(Shape):\n",
    "    def __init__(self, l, w):\n",
    "        self.length = l\n",
    "        self.width = w\n",
    "\n",
    "    def area(self):\n",
    "        return self.length * self.width\n",
    "\n",
    "c = Circle(7)\n",
    "r = Rectangle(3, 4)\n",
    "\n",
    "print(\"Area of circle is: \", round(c.area(),2))\n",
    "print(\"Area of Rectangle is : \", r.area())"
   ]
  },
  {
   "cell_type": "markdown",
   "id": "d18daa62-20ae-4376-8e52-953a5bded75a",
   "metadata": {},
   "source": [
    "#### 3.  Implement a multi-level inheritance scenario where a class Vehicle has an attribute type. Derive a class Car and further derive a class ElectricCar that adds a battery attribute."
   ]
  },
  {
   "cell_type": "code",
   "execution_count": 44,
   "id": "8208a236-7324-4640-b881-02d0e5948151",
   "metadata": {},
   "outputs": [
    {
     "name": "stdout",
     "output_type": "stream",
     "text": [
      "Type of Vechile is Electric, Vachile name is TATA and the bettery capacity is 75 KW\n"
     ]
    }
   ],
   "source": [
    "class Vechile:\n",
    "    def __init__(self, vechile_type):\n",
    "        self.vechile_type = vechile_type\n",
    "\n",
    "    def get_vechile_type(self):\n",
    "        print(f\"Type of Vechile is {self.vechile}\")\n",
    "\n",
    "class Car(Vechile):\n",
    "    def __init__(self, car_type, car_brand):\n",
    "        super().__init__(car_type)\n",
    "        self.brand = car_brand\n",
    "\n",
    "    def get_car_details(self):\n",
    "        print(f\"Car type is : {self.get_vechile_type} and Brand is : {self.brand}\")\n",
    "\n",
    "class ElectricCar(Car):\n",
    "    def __init__(self, car_type, car_brand, bettery_capacity):\n",
    "        super().__init__(car_type, car_brand)\n",
    "        self.bettry_capacity = bettery_capacity\n",
    "\n",
    "    def get_electric_car_details(self):\n",
    "        print(f\"Type of Vechile is {self.vechile_type}, Vachile name is {self.brand} and the bettery capacity is {self.bettry_capacity} KW\")\n",
    "\n",
    "\n",
    "my_car = ElectricCar(\"Electric\", \"TATA\", 75)\n",
    "my_car.get_electric_car_details()"
   ]
  },
  {
   "cell_type": "markdown",
   "id": "2a680f04-fa4c-4151-afc6-3cc1f501ad55",
   "metadata": {},
   "source": [
    "#### 4. Implement a multi-level inheritance scenario where a class Vehicle has an attribute type. Derive a class Car and further derive a class ElectricCar that adds a battery attribute"
   ]
  },
  {
   "cell_type": "code",
   "execution_count": 46,
   "id": "4a3c4dd8-37a1-4909-8fae-ab99ae1f2036",
   "metadata": {},
   "outputs": [
    {
     "name": "stdout",
     "output_type": "stream",
     "text": [
      "Type of Vechile is Electric,Vachile name is TATA and the bettery capacity is 75 KW\n"
     ]
    }
   ],
   "source": [
    "class Vechile:\n",
    "    def __init__(self, vechile_type):\n",
    "        self.vechile_type = vechile_type\n",
    "\n",
    "    def get_vechile_type(self):\n",
    "        print(f\"Type of Vechile is {self.vechile}\")\n",
    "\n",
    "class Car(Vechile):\n",
    "    def __init__(self, car_type, car_brand):\n",
    "        super().__init__(car_type)\n",
    "        self.brand = car_brand\n",
    "\n",
    "    def get_car_details(self):\n",
    "        print(f\"Car type is : {self.get_vechile_type} and Brand is : {self.brand}\")\n",
    "\n",
    "class ElectricCar(Car):\n",
    "    def __init__(self, car_type, car_brand, bettery_capacity):\n",
    "        super().__init__(car_type, car_brand)\n",
    "        self.bettry_capacity = bettery_capacity\n",
    "\n",
    "    def get_electric_car_details(self):\n",
    "        print(f\"Type of Vechile is {self.vechile_type},Vachile name is {self.brand} and the bettery capacity is {self.bettry_capacity} KW\")\n",
    "\n",
    "\n",
    "my_car = ElectricCar(\"Electric\", \"TATA\", 75)\n",
    "my_car.get_electric_car_details()"
   ]
  },
  {
   "cell_type": "markdown",
   "id": "1b9cf2eb-24f8-4038-bd1c-197758b388e6",
   "metadata": {},
   "source": [
    "#### 5.  Write a program to demonstrate encapsulation by creating a class BankAccount with private attributes balance and methods to deposit, withdraw, and check balance"
   ]
  },
  {
   "cell_type": "code",
   "execution_count": null,
   "id": "70aaaac7-0dc8-484e-b7f8-335aa509fe02",
   "metadata": {},
   "outputs": [],
   "source": [
    "class BankAccount:\n",
    "    def __init__(self, balance=0):\n",
    "        self.__balance = balance\n",
    "\n",
    "    def check_balance(self):\n",
    "        print(\"Your current balance is :\",self.__balance)\n",
    "\n",
    "    def deposit(self, amount):\n",
    "        self.__balance += amount\n",
    "        print(f\"{amount} deposited to your account\")\n",
    "        print(\"Current balance is :\",self.__balance)\n",
    "\n",
    "    def withdrow(self, w_amount):\n",
    "        if w_amount < self.__balance:\n",
    "            self.__balance -= w_amount\n",
    "            print(f\"Withdrow of {w_amount} is successful.\")\n",
    "        else:\n",
    "            print(\"Insuficent balance!\")\n",
    "\n",
    "obj = BankAccount(500)\n",
    "obj.check_balance()\n",
    "obj.deposit(1000)\n",
    "obj.withdrow(1000)"
   ]
  },
  {
   "cell_type": "markdown",
   "id": "a30f7711-3d06-47c9-9ef3-d88c328da6a6",
   "metadata": {},
   "source": [
    "#### 6.  Demonstrate runtime polymorphism using a method play() in a base class Instrument. Derive classes Guitar and Piano that implement their own version of play()."
   ]
  },
  {
   "cell_type": "code",
   "execution_count": null,
   "id": "0e04ab7b-2d34-4601-a55a-f7b5a108c92c",
   "metadata": {},
   "outputs": [],
   "source": [
    "class Instrument:\n",
    "    def play(self):\n",
    "        print(\"Playing Instrument....\")\n",
    "\n",
    "class Piano(Instrument):\n",
    "    def play(self):\n",
    "        print(\"Injoy music playing by Piano\")\n",
    "\n",
    "class Guitar(Instrument):\n",
    "    def play(self):\n",
    "        print(\"Injoy music playing by Guitar\")\n",
    "\n",
    "def play_Instrument(Instrument):\n",
    "    Instrument.play()\n",
    "\n",
    "instrument = Instrument()\n",
    "piano = Piano()\n",
    "guitar = Guitar()\n",
    "\n",
    "play_Instrument(instrument)\n",
    "play_Instrument(piano)\n",
    "play_Instrument(guitar)"
   ]
  },
  {
   "cell_type": "markdown",
   "id": "0c32b7b4-3992-4856-8984-6b87390a809f",
   "metadata": {},
   "source": [
    "#### 7. Create a class MathOperations with a class method add_numbers() to add two numbers and a static method subtract_numbers() to subtract two numbers."
   ]
  },
  {
   "cell_type": "code",
   "execution_count": null,
   "id": "34db0fb0-8a42-40af-b1a6-49400eaec758",
   "metadata": {},
   "outputs": [],
   "source": [
    "class MathOperations:\n",
    "    @classmethod\n",
    "    def add_numbers(cls, a, b):\n",
    "        return a+b\n",
    "\n",
    "    @staticmethod\n",
    "    def subtract_numbers(a, b):\n",
    "        return a-b\n",
    "\n",
    "a = 12\n",
    "b = 5\n",
    "print(\"Summetion of a and b using class method : \",MathOperations.add_numbers(a, b))\n",
    "print(\"Submission of a and b usingstatic method: \",MathOperations.subtract_numbers(a, b))"
   ]
  },
  {
   "cell_type": "markdown",
   "id": "99ac1899-3a1b-420a-9c36-94bf3d77326b",
   "metadata": {},
   "source": [
    "#### 8. Implement a class Person with a class method to count the total number of persons created"
   ]
  },
  {
   "cell_type": "code",
   "execution_count": null,
   "id": "35df5081-475e-4aba-bb08-abb532487d86",
   "metadata": {},
   "outputs": [],
   "source": [
    "class Person:\n",
    "    __count = 0\n",
    "    def __init__(self, person_name):\n",
    "        self.name = person_name\n",
    "        Person.__count += 1\n",
    "        \n",
    "    @classmethod\n",
    "    def get_count(self):\n",
    "        return self.__count\n",
    "\n",
    "obj1 = Person(\"Amit\")\n",
    "obj2 = Person(\"Kumar\")\n",
    "\n",
    "\n",
    "Person.get_count()"
   ]
  },
  {
   "cell_type": "markdown",
   "id": "0e6ed84b-e72f-449a-97fc-e15b6d1dd225",
   "metadata": {},
   "source": [
    "#### 9. Write a class Fraction with attributes numerator and denominator. Override the str method to display the fraction as \"numerator/denominator\""
   ]
  },
  {
   "cell_type": "code",
   "execution_count": null,
   "id": "ea0eb035-ae78-4aec-bf3d-1cc4c92c2994",
   "metadata": {},
   "outputs": [],
   "source": [
    "class Fraction:\n",
    "    def __init__(self, numerator, denominator):\n",
    "        if denominator == 0:\n",
    "            raise ValueError(\"Denominator cannot be zero.\")\n",
    "        self.numerator = numerator\n",
    "        self.denominator = denominator\n",
    "\n",
    "    def __str__(self):\n",
    "        return f\"{self.numerator}/{self.denominator}\"\n",
    "\n",
    "\n",
    "fraction1 = Fraction(3, 4)\n",
    "fraction2 = Fraction(5, 7)\n",
    "\n",
    "print(fraction1)\n",
    "print(fraction2)"
   ]
  },
  {
   "cell_type": "markdown",
   "id": "680ebec6-d46c-46c5-90dd-614d533cbbe4",
   "metadata": {},
   "source": [
    "#### 10.  Demonstrate operator overloading by creating a class Vector and overriding the add method to add two vectors."
   ]
  },
  {
   "cell_type": "code",
   "execution_count": null,
   "id": "9321a34f-6063-4255-8b34-08c0974884d2",
   "metadata": {},
   "outputs": [],
   "source": [
    "class Vector:\n",
    "    def __init__(self, x, y):\n",
    "        self.x = x\n",
    "        self.y = y\n",
    "    def __add__(self,other):\n",
    "        return (self.x + other.x, self.y + other.y)\n",
    "\n",
    "    def __str__(self):\n",
    "        return f\"{self.x} , {self.y}\"\n",
    "\n",
    "v1 = Vector(3, 5)\n",
    "v2 = Vector(2 ,7)\n",
    "v3 = v1+v2\n",
    "print(v3)"
   ]
  },
  {
   "cell_type": "markdown",
   "id": "f0de91fa-fc27-431f-8dfe-f79836e8063f",
   "metadata": {},
   "source": [
    "#### 11. Create a class Person with attributes name and age. Add a method greet() that prints \"Hello, my name is {name} and I am {age} years old."
   ]
  },
  {
   "cell_type": "code",
   "execution_count": null,
   "id": "fcb2df74-5eab-4921-93dd-03cf1449749d",
   "metadata": {},
   "outputs": [],
   "source": [
    "class Person:\n",
    "    def __init__(self, name, age):\n",
    "        self.name = name\n",
    "        self.age = age\n",
    "\n",
    "    def greet(self):\n",
    "        print(f\"Hello, my name is {self.name} and I am {self.age} years old.\")\n",
    "\n",
    "obj = Person(\"Amit\", 25)\n",
    "obj.greet()"
   ]
  },
  {
   "cell_type": "markdown",
   "id": "e811b3bc-e9bd-432e-b51e-8fe4826abbaf",
   "metadata": {},
   "source": [
    "#### 12. Implement a class Student with attributes name and grades. Create a method average_grade() to compute the average of the grades"
   ]
  },
  {
   "cell_type": "code",
   "execution_count": null,
   "id": "aef4b6dd-bd90-4ccd-8dbb-54b5e3fa47e1",
   "metadata": {},
   "outputs": [],
   "source": [
    "class Student:\n",
    "    def __init__(self, name):\n",
    "        self.name = name\n",
    "        self.grades = []\n",
    "\n",
    "    def add_grade(self, grade):\n",
    "        if isinstance(grade, (int, float)) and 0 <= grade <= 100:\n",
    "            self.grades.append(grade)\n",
    "        else:\n",
    "            raise ValueError(\"Grade must be a number between 0 and 100.\")\n",
    "\n",
    "    def average_grade(self):\n",
    "        if not self.grades:\n",
    "            return 0\n",
    "        return sum(self.grades) / len(self.grades)\n",
    "\n",
    "    def __str__(self):\n",
    "        return f\"Student: {self.name}, Average Grade: {self.average_grade():.2f}\"\n",
    "\n",
    "student = Student(\"Amit\")\n",
    "\n",
    "student.add_grade(85)\n",
    "student.add_grade(90)\n",
    "student.add_grade(78)\n",
    "\n",
    "print(student) "
   ]
  },
  {
   "cell_type": "markdown",
   "id": "64c04908-16b2-4d8d-80f2-0a9f61e9fb0e",
   "metadata": {},
   "source": [
    "#### 13.  Create a class Rectangle with methods set_dimensions() to set the dimensions and area() to calculate the area"
   ]
  },
  {
   "cell_type": "code",
   "execution_count": null,
   "id": "ba50f095-9dad-405c-a377-f1b4ea551b0f",
   "metadata": {},
   "outputs": [],
   "source": [
    "class Rectangle:\n",
    "    def set_dimensions(self, new_length, new_width):\n",
    "        self.length = new_length\n",
    "        self.width = new_width\n",
    "\n",
    "    def area(self):\n",
    "        return self.length * self.width\n",
    "\n",
    "rec = Rectangle()\n",
    "rec.set_dimensions(4, 5)\n",
    "rec.area()"
   ]
  },
  {
   "cell_type": "markdown",
   "id": "3f1d8547-4b33-4fa3-9084-1c8b2c09c449",
   "metadata": {},
   "source": [
    "#### 14. Create a class Employee with a method calculate_salary() that computes the salary based on hours worked and hourly rate. Create a derived class Manager that adds a bonus to the salary."
   ]
  },
  {
   "cell_type": "code",
   "execution_count": null,
   "id": "a0fa2af6-b08a-40d3-815b-cf587a1e5905",
   "metadata": {},
   "outputs": [],
   "source": [
    "class Employee:\n",
    "    def __init__(self, name, hours_worked, hourly_rate):\n",
    "        self.name = name\n",
    "        self.hours_worked = hours_worked\n",
    "        self.hourly_rate = hourly_rate\n",
    "\n",
    "    def calculate_salary(self):\n",
    "        return self.hours_worked * self.hourly_rate\n",
    "\n",
    "    def __str__(self):\n",
    "        return f\"Employee: {self.name}, Salary: {self.calculate_salary():.2f}\"\n",
    "\n",
    "class Manager(Employee):\n",
    "    def __init__(self, name, hours_worked, hourly_rate, bonus):\n",
    "        super().__init__(name, hours_worked, hourly_rate)\n",
    "        self.bonus = bonus\n",
    "\n",
    "    def calculate_salary(self):\n",
    "        base_salary = super().calculate_salary()\n",
    "        return base_salary + self.bonus\n",
    "\n",
    "    def __str__(self):\n",
    "        return f\"Manager: {self.name}, Salary: {self.calculate_salary():.2f} (includes bonus: {self.bonus:.2f})\"\n",
    "\n",
    "manager = Manager(\"Amit\", 40, 500, 2500)\n",
    "  \n",
    "print(manager)   "
   ]
  },
  {
   "cell_type": "markdown",
   "id": "5d20329d-7d16-4c27-aac3-57c697db81cb",
   "metadata": {},
   "source": [
    "#### 15. Create a class Product with attributes name, price, and quantity. Implement a method total_price() that calculates the total price of the product"
   ]
  },
  {
   "cell_type": "code",
   "execution_count": null,
   "id": "c7924a55-0b3a-4830-b3bd-cc9d8d384b56",
   "metadata": {},
   "outputs": [],
   "source": [
    "class Product:\n",
    "    def __init__(self, name, price, quantity):\n",
    "        self.name = name\n",
    "        self.price = price\n",
    "        self.quantity = quantity\n",
    "\n",
    "    def total_price(self):\n",
    "        return f\"Total price of {self.name} is {self.price * self.quantity}\"\n",
    "\n",
    "p = Product(\"Laptop\", 30000, 2)\n",
    "p.total_price()"
   ]
  },
  {
   "cell_type": "markdown",
   "id": "dab92312-a1c7-4791-9482-c7ff0ec3fd58",
   "metadata": {},
   "source": [
    "#### 16. Create a class Animal with an abstract method sound(). Create two derived classes Cow and Sheep that implement the sound() method."
   ]
  },
  {
   "cell_type": "code",
   "execution_count": null,
   "id": "45ad179b-85b1-408c-8e16-8c5c40c9217c",
   "metadata": {},
   "outputs": [],
   "source": [
    "from abc import ABC, abstractmethod\n",
    "class Animal:\n",
    "    @abstractmethod\n",
    "    def sound(self):\n",
    "        pass\n",
    "\n",
    "class Cow(Animal):\n",
    "    def sound(self):\n",
    "        print(\"This is sound of cow.\")\n",
    "\n",
    "class Sheep(Animal):\n",
    "    def sound(self):\n",
    "        print(\"This is sound of Sheep.\")\n",
    "\n",
    "c = Cow()\n",
    "s = Sheep()\n",
    "\n",
    "c.sound()\n",
    "s.sound()"
   ]
  },
  {
   "cell_type": "markdown",
   "id": "8baaf656-582b-4ac2-815a-cc9c9255b4a1",
   "metadata": {},
   "source": [
    "#### 17. Create a class Book with attributes title, author, and year_published. Add a method get_book_info() that returns a formatted string with the book's details."
   ]
  },
  {
   "cell_type": "code",
   "execution_count": null,
   "id": "4d4dd331-903e-47fd-9e18-92a97b8eed7a",
   "metadata": {},
   "outputs": [],
   "source": [
    "class Book:\n",
    "    def __init__(self, title, author, year_published):\n",
    "        self.title = title\n",
    "        self.author = author\n",
    "        self.year_published = year_published\n",
    "\n",
    "    def get_book_info(self):\n",
    "        return f\"Book title {self.title}, Author is {self.author} and Published year is {self.year_published}\"\n",
    "\n",
    "book1 = Book(\"Pyhton Programming\", \"Dr. Abhina\", 2020)\n",
    "book1.get_book_info()"
   ]
  },
  {
   "cell_type": "markdown",
   "id": "3e7fa1cf-ad06-40c9-a7b9-e1d0d401aafa",
   "metadata": {},
   "source": [
    "#### 18. Create a class House with attributes address and price. Create a derived class Mansion that adds an attribute number_of_rooms."
   ]
  },
  {
   "cell_type": "code",
   "execution_count": null,
   "id": "d42eb7e7-7803-4cbe-979c-884d261cb689",
   "metadata": {},
   "outputs": [],
   "source": [
    "class House:\n",
    "    def __init__(self, address, price):\n",
    "        self.address = address\n",
    "        self.price = price\n",
    "\n",
    "class Home(House):\n",
    "    def __init__(self, address, price, number_of_rooms):\n",
    "        super().__init__(address, price)\n",
    "        self.number_of_rooms = number_of_rooms\n",
    "\n",
    "    def get_details(self):\n",
    "        return f\"House with {self.number_of_rooms} rooms located in {self.address} at cost of {self.price}\"\n",
    "\n",
    "my_house = Home(\"Dehradun\", 3000000, 4)\n",
    "my_house.get_details()"
   ]
  }
 ],
 "metadata": {
  "kernelspec": {
   "display_name": "Python 3 (ipykernel)",
   "language": "python",
   "name": "python3"
  },
  "language_info": {
   "codemirror_mode": {
    "name": "ipython",
    "version": 3
   },
   "file_extension": ".py",
   "mimetype": "text/x-python",
   "name": "python",
   "nbconvert_exporter": "python",
   "pygments_lexer": "ipython3",
   "version": "3.11.5"
  },
  "widgets": {
   "application/vnd.jupyter.widget-state+json": {
    "state": {},
    "version_major": 2,
    "version_minor": 0
   }
  }
 },
 "nbformat": 4,
 "nbformat_minor": 5
}
