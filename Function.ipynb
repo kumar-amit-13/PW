{
 "cells": [
  {
   "cell_type": "markdown",
   "id": "9a929dc6-cc0f-498e-b7f4-fd5b0a344dff",
   "metadata": {},
   "source": [
    "# Theory Questions"
   ]
  },
  {
   "cell_type": "markdown",
   "id": "a38b17b9-b0fe-484d-887a-02bd3e1e0e2d",
   "metadata": {},
   "source": [
    "#### 1. What is the difference between a function and a method in Python?"
   ]
  },
  {
   "cell_type": "markdown",
   "id": "fe65a610-8726-432a-bffb-d99ce0e1f406",
   "metadata": {},
   "source": [
    "In Python function and method are related to each other but they have distinct meaning. Function is a block of code which is reusable and defined by the keyword 'def' functions are called by their name followed by parameter which is optional.\n",
    "While Method is a function that related with an object which is usualy a part of a class and defines inside of a class. method are calles on object using a operator called dot(.)\n",
    "Ie. all methods are function but not all funtions are methods."
   ]
  },
  {
   "cell_type": "markdown",
   "id": "13dc176f-94c2-491d-b71c-58c09aff7df4",
   "metadata": {},
   "source": [
    "#### 2. Explain the concept of function arguments and parameters in Python."
   ]
  },
  {
   "cell_type": "markdown",
   "id": "f7f5b0cf-d23a-4e21-bffe-aec211ea75b3",
   "metadata": {},
   "source": [
    "Parameters are placeholder in a function while declearation of function means it a variable which belongs to that particular function only and we can't access outside of function.\n",
    "Arguments are the actual value passed to a function while calling function it is an optional means a function demands values then we will pass as argumenets and function recived as parameter."
   ]
  },
  {
   "cell_type": "markdown",
   "id": "2b690958-aaf9-47ca-8efd-9cf252ec2d1d",
   "metadata": {},
   "source": [
    "#### 3. What are the different ways to define and call a function in Python?"
   ]
  },
  {
   "cell_type": "markdown",
   "id": "6966f7af-f9c5-4693-b8bf-e13c06416207",
   "metadata": {},
   "source": [
    "Functions are defined and called in various way. \n",
    "We can define a function by default parameter and its called by using function name only.\n",
    "We can also define a function with variable length by using '**' in parameter.\n",
    "we can also define a function by positional argumenets which is mostly use in practice and its called by the same number of arguments as in parameter.\n",
    "we can also define a function inside a function which is nested function or recursive function.\n",
    "and last but not the least we an define a function by using Lembda keyword in which we assign the lembda to a variable or call it directly."
   ]
  },
  {
   "cell_type": "markdown",
   "id": "c250c5d5-e748-4028-9020-7125047ac44b",
   "metadata": {},
   "source": [
    "#### 4.  What is the purpose of the 'return' statement in a Python function?\r\n",
    "\r"
   ]
  },
  {
   "cell_type": "markdown",
   "id": "1ff8198b-129c-48fb-9364-5b219d80c156",
   "metadata": {},
   "source": [
    "'return' statement in a function play a vitel role it will return a value from where that particular function is called, it also able to terminate function without returnin any value. It is capable to return multiple value as tupe which is useful when we have to return multiple value for ferthet use."
   ]
  },
  {
   "cell_type": "markdown",
   "id": "02a72531-7f45-4fa9-9f13-61818abfe918",
   "metadata": {},
   "source": [
    "#### 5. What are iterators in Python and how do they differ from iterables?"
   ]
  },
  {
   "cell_type": "markdown",
   "id": "beaf0c12-ed45-48c5-833d-d17e8f072ca3",
   "metadata": {},
   "source": [
    "Iterator and Iterable are related concept but they have distinct role.\n",
    "Iterable : it is any object that can be iterated (like list, tuple). These objects implement the __iter__() method which return an iterator.\n",
    "\n",
    "Iterator : It is an object that represents a stream of data wher eiterated over and access values one by one."
   ]
  },
  {
   "cell_type": "markdown",
   "id": "329ef740-0e3e-4da2-ace4-232e9a55797c",
   "metadata": {},
   "source": [
    "#### 6.  Explain the concept of generators in Python and how they are defined."
   ]
  },
  {
   "cell_type": "markdown",
   "id": "932079b7-e64d-4348-918e-5b1fce8fceb3",
   "metadata": {},
   "source": [
    "Generator is a type of iterable, like list or tuples, but they don't store all thier values in memory at once, they generate value when we need which is makes memory efficent and handle a large dataset or infinite sequence of data. Generators are defined as regular function but it uses the keyword caed 'yield' insted of return."
   ]
  },
  {
   "cell_type": "markdown",
   "id": "be737428-7ad7-4827-b11b-10ae9c71bff1",
   "metadata": {},
   "source": [
    "#### 7. What are the advantages of using generators over regular functions?"
   ]
  },
  {
   "cell_type": "markdown",
   "id": "5ebd0f75-5ef3-42b9-905a-b7697d4699e9",
   "metadata": {},
   "source": [
    "Generator offer lots of advantages insted regular function, especially when we need to handle a large data or arge sequence of data as it's able to produce one value at one time insted of storing a whole values in memory. It reduce compilation time and memory uses by using the 'next()' which is produce data or value one by one when its called."
   ]
  },
  {
   "cell_type": "markdown",
   "id": "fe43a968-0958-48c0-9f91-a8ddb8b6fba6",
   "metadata": {},
   "source": [
    "#### 8. What is a lambda function in Python and when is it typically used?"
   ]
  },
  {
   "cell_type": "markdown",
   "id": "bffb3af4-dab3-40f4-b359-5366fc003558",
   "metadata": {},
   "source": [
    "Lembda function in python is a consine way to create anonymous functions, known as lembda function. It tupicaly used in a senario where a small function is required which is inine function. it is decleared as 'lembda arguments : expression'. it can also be used with map(), filter() and reduce() functions, like if we have to custimize the sorting oredr of list then we use lambda in sorted() function."
   ]
  },
  {
   "cell_type": "markdown",
   "id": "8d37c250-3f44-4106-a831-28261c45229d",
   "metadata": {},
   "source": [
    "#### 9. Explain the purpose and usage of the 'map()' function in Python."
   ]
  },
  {
   "cell_type": "markdown",
   "id": "d4c3a52c-cd1b-4ac8-a3ca-39d8c3e993ea",
   "metadata": {},
   "source": [
    "'map()' function is a built-in function in python which is used to applay a given function to each and every item in any iterable (like list, tuple or string) and return a new iterable. eg if we want to covert string to integer which is belongs to a list then we can use map function which is going to convert each and every element of that particular list. "
   ]
  },
  {
   "cell_type": "markdown",
   "id": "30cf5c83-a0a5-4545-b5c6-1edc96333ba4",
   "metadata": {},
   "source": [
    "#### 10.  What is the difference between `map()`, `reduce()`, and `filter()` functions in Python?"
   ]
  },
  {
   "cell_type": "markdown",
   "id": "284d3fc0-f1e4-4209-9592-5760c688be99",
   "metadata": {},
   "source": [
    "The 'map()' function executes a specified function for each item in an `terable. The item is sent to the function as a parameter.\n",
    "\n",
    "Python’s 'reduce()' implements a mathematical technique commonly known as folding or reduction, its a process where we reduce a list of item to a single value.\n",
    "\n",
    "'filter()' is used when we have to filter elements from an iterable based on a predicate and returns only those elements for which the predicate evalutes to True."
   ]
  },
  {
   "cell_type": "markdown",
   "id": "8099a30b-95c5-4c3b-ae9f-0eecd3512c50",
   "metadata": {},
   "source": [
    "#### 11. Using pen & Paper write the internal mechanism for sum operation using  reduce function on this given\n",
    "list:[47,11,42,13]"
   ]
  },
  {
   "cell_type": "markdown",
   "id": "a68e196e-bcd8-4b97-a12f-44fc5d326038",
   "metadata": {},
   "source": [
    "Answer of this question is avelable in doc as it is a picture."
   ]
  },
  {
   "cell_type": "markdown",
   "id": "2db57643-14e0-495b-a35a-9b4f287a9b17",
   "metadata": {},
   "source": [
    "# Practile Questions"
   ]
  },
  {
   "cell_type": "markdown",
   "id": "1fe8d09f-7370-4e18-8e2a-019992757d38",
   "metadata": {},
   "source": [
    "#### 1.  Write a Python function that takes a list of numbers as input and returns the sum of all even numbers in the list."
   ]
  },
  {
   "cell_type": "code",
   "execution_count": 12,
   "id": "dcae4479-02dc-4de5-90a8-721098f65105",
   "metadata": {},
   "outputs": [
    {
     "data": {
      "text/plain": [
       "148"
      ]
     },
     "execution_count": 12,
     "metadata": {},
     "output_type": "execute_result"
    }
   ],
   "source": [
    "def sum_even(li):\n",
    "    sum = 0\n",
    "    for i in li:\n",
    "        if(i % 2 == 0):\n",
    "            sum += i\n",
    "    return sum\n",
    "\n",
    "l = [1,23,32,33,34,4,8,6,8,56]\n",
    "sum_even(l)"
   ]
  },
  {
   "cell_type": "markdown",
   "id": "d09fc266-0db6-43ac-98fe-d64b078e6967",
   "metadata": {},
   "source": [
    "#### 2. Create a Python function that accepts a string and returns the reverse of that string."
   ]
  },
  {
   "cell_type": "code",
   "execution_count": 14,
   "id": "7eeb85dc-57b2-44d6-af8a-393ad03c919a",
   "metadata": {},
   "outputs": [
    {
     "data": {
      "text/plain": [
       "'ramuK timA'"
      ]
     },
     "execution_count": 14,
     "metadata": {},
     "output_type": "execute_result"
    }
   ],
   "source": [
    "def reverse_string(s):\n",
    "    return s[::-1]\n",
    "\n",
    "s = \"Amit Kumar\"\n",
    "reverse_string(s)"
   ]
  },
  {
   "cell_type": "markdown",
   "id": "4b9c6640-b3fe-4deb-83f1-05ab29fc1b48",
   "metadata": {},
   "source": [
    "#### 3. Implement a Python function that takes a list of integers and returns a new list containing the squares of each number."
   ]
  },
  {
   "cell_type": "code",
   "execution_count": 16,
   "id": "0ff9deac-aed7-44d9-a7a3-d40198215f8e",
   "metadata": {},
   "outputs": [
    {
     "data": {
      "text/plain": [
       "[1, 4, 9, 16, 25]"
      ]
     },
     "execution_count": 16,
     "metadata": {},
     "output_type": "execute_result"
    }
   ],
   "source": [
    "li = [1,2,3,4,5]\n",
    "\n",
    "def sq(l):\n",
    "    li = []\n",
    "    for i in l:\n",
    "        li.append(i*i)\n",
    "    return li\n",
    "\n",
    "sq(li)"
   ]
  },
  {
   "cell_type": "markdown",
   "id": "8931c91d-b6d5-4e72-b9b9-02389d298b98",
   "metadata": {},
   "source": [
    "#### 4. Write a Python function that checks if a given number is prime or not from 1 to 200."
   ]
  },
  {
   "cell_type": "code",
   "execution_count": 23,
   "id": "6a2abe97-f3aa-4a66-bbfa-e911b8207152",
   "metadata": {},
   "outputs": [
    {
     "name": "stdin",
     "output_type": "stream",
     "text": [
      "Enter number (1 to 200) : 199\n"
     ]
    },
    {
     "name": "stdout",
     "output_type": "stream",
     "text": [
      "199 is a prime number\n"
     ]
    }
   ],
   "source": [
    "user_num = int(input(\"Enter number (1 to 200) :\" ))\n",
    "\n",
    "def check_prime(number):\n",
    "    result = True\n",
    "    i=2\n",
    "    range = (number//2)\n",
    "    while(i <= range):\n",
    "        if ((number%i) == 0):\n",
    "            result = False\n",
    "            break\n",
    "        i+=1\n",
    "    return result\n",
    "\n",
    "if(check_prime(user_num)):\n",
    "    print(f\"{user_num} is a prime number\")\n",
    "else:\n",
    "    print(f\"{user_num} is not a prime number\")"
   ]
  },
  {
   "cell_type": "markdown",
   "id": "4324be63-5614-4e15-9178-7068548247b9",
   "metadata": {},
   "source": [
    "#### 5. Create an iterator class in Python that generates the Fibonacci sequence up to a specified number of terms."
   ]
  },
  {
   "cell_type": "code",
   "execution_count": null,
   "id": "c352c65c-47e0-4462-9b2d-fbada879af1e",
   "metadata": {},
   "outputs": [],
   "source": []
  },
  {
   "cell_type": "markdown",
   "id": "7c97cf69-c583-4071-ba15-1fa525a130a7",
   "metadata": {},
   "source": [
    "#### 6. Write a generator function in Python that yields the powers of 2 up to a given exponent."
   ]
  },
  {
   "cell_type": "code",
   "execution_count": 27,
   "id": "28170618-1d2b-4c10-aeff-c5e07148c7b6",
   "metadata": {},
   "outputs": [
    {
     "name": "stdin",
     "output_type": "stream",
     "text": [
      "Enter the expotential of base 2:  10\n"
     ]
    },
    {
     "name": "stdout",
     "output_type": "stream",
     "text": [
      "1 2 4 8 16 32 64 128 256 512 1024 "
     ]
    }
   ],
   "source": [
    "def powers_of_two(exponent):\n",
    "    for expo in range(exponent + 1):\n",
    "        yield 2 ** expo\n",
    "\n",
    "exponential = int(input(\"Enter the expotential of base 2: \"))\n",
    "for power in powers_of_two(exponential):\n",
    "    print(power, end=\" \")\n"
   ]
  },
  {
   "cell_type": "markdown",
   "id": "7b78c13c-d8a3-45fb-8760-bdd524e809e2",
   "metadata": {},
   "source": [
    "#### 7. Implement a generator function that reads a file line by line and yields each line as a string."
   ]
  },
  {
   "cell_type": "code",
   "execution_count": null,
   "id": "7b9b84a1-7779-43c7-b2bf-ddf6150e5eed",
   "metadata": {},
   "outputs": [],
   "source": []
  },
  {
   "cell_type": "markdown",
   "id": "b0209fab-c42a-4475-961e-5858da8f116b",
   "metadata": {},
   "source": [
    "#### 8. Use a lambda function in Python to sort a list of tuples based on the second element of each tuple."
   ]
  },
  {
   "cell_type": "code",
   "execution_count": 28,
   "id": "592761aa-b0e7-4683-9cb2-91f2f61e511e",
   "metadata": {},
   "outputs": [
    {
     "name": "stdout",
     "output_type": "stream",
     "text": [
      "[(3, 1), (2, 3), (1, 5), (4, 7)]\n"
     ]
    }
   ],
   "source": [
    "data = [(1, 5), (3, 1), (4, 7), (2, 3)]\n",
    "\n",
    "sorted_data = sorted(data, key=lambda x: x[1])\n",
    "print(sorted_data)\n"
   ]
  },
  {
   "cell_type": "markdown",
   "id": "9c9b6307-828e-47a2-a610-cf8731b89d28",
   "metadata": {},
   "source": [
    "#### 9. Write a Python program that uses `map()` to convert a list of temperatures from Celsius to Fahrenheit."
   ]
  },
  {
   "cell_type": "code",
   "execution_count": 31,
   "id": "026c4bc1-2d10-4a72-9068-e031e84b20c1",
   "metadata": {},
   "outputs": [
    {
     "name": "stdout",
     "output_type": "stream",
     "text": [
      "Temperatures in Celsius is : [0, 20, 30, 37, 100]\n",
      "Temperatures in Fahrenheit is : [32.0, 68.0, 86.0, 98.6, 212.0]\n"
     ]
    }
   ],
   "source": [
    "def c_to_f(celsius):\n",
    "    return (celsius * 9/5) + 32\n",
    "\n",
    "t = [0, 20, 30, 37, 100]\n",
    "f = list(map(c_to_f, t))\n",
    "print(\"Temperatures in Celsius is :\", t)\n",
    "print(\"Temperatures in Fahrenheit is :\", f)\n"
   ]
  },
  {
   "cell_type": "markdown",
   "id": "1b4a3e72-6daf-46e8-ab63-f29fe57c7835",
   "metadata": {},
   "source": [
    "#### 10. Create a Python program that uses `filter()` to remove all the vowels from a given string"
   ]
  },
  {
   "cell_type": "code",
   "execution_count": 39,
   "id": "e12c77ce-b64d-428c-8a3c-581b241ade56",
   "metadata": {},
   "outputs": [
    {
     "name": "stdin",
     "output_type": "stream",
     "text": [
      "Enter a string:  amit kumar\n"
     ]
    },
    {
     "name": "stdout",
     "output_type": "stream",
     "text": [
      "Original string is : amit kumar\n",
      "String without vowels is : mt kmr\n"
     ]
    }
   ],
   "source": [
    "user_input = input(\"Enter a string: \")\n",
    "\n",
    "def not_a_vowel(char):\n",
    "    vowels = \"aeiouAEIOU\"\n",
    "    return char not in vowels\n",
    "\n",
    "string_without_vowels = \"\".join(filter(not_a_vowel, user_input))\n",
    "print(\"Original string is :\", user_input)\n",
    "print(\"String without vowels is :\", string_without_vowels)\n"
   ]
  },
  {
   "cell_type": "markdown",
   "id": "23741be6-a23d-482f-a2c7-f5c64c9b4928",
   "metadata": {},
   "source": [
    " #### 11. Imagine an accounting routine used in a book shop. It works on a list with sublists, which look like this:\n",
    " order_number, Books_title_auther, quantity, price_per_item\n",
    "[34587, \"Learning Python, Mark Lutz\", 4, 40.95],\n",
    "[98762, \"Programming Python, Mark Lutz\", 5, 56.80],\n",
    "[77226, \"Head First Python, Paul Barry\", 3, 32.95],\n",
    "[88112, \"Einführung in Python3, Bernd Klein\", 3, 24.99],\n",
    "\n",
    "Write a Python program, which returns a list with 2-tuples. Each tuple consists of the order number and the\n",
    "product of the price per item and the quantity. The product should be increased by 10,- € if the value of the\n",
    "order is smaller than 100.00 €.\n",
    "\n",
    "Write a Python program using lambda and map."
   ]
  },
  {
   "cell_type": "code",
   "execution_count": 3,
   "id": "e5e1bd63-87e1-4b98-905c-45a96b2f415b",
   "metadata": {},
   "outputs": [
    {
     "name": "stdout",
     "output_type": "stream",
     "text": [
      "[(34587, 163.8), (98762, 284.0), (77226, 108.85000000000001), (88112, 84.97)]\n"
     ]
    }
   ],
   "source": [
    "orders = [\n",
    "    [34587, \"Learning Python, Mark Lutz\", 4, 40.95],\n",
    "    [98762, \"Programming Python, Mark Lutz\", 5, 56.80],\n",
    "    [77226, \"Head First Python, Paul Barry\", 3, 32.95],\n",
    "    [88112, \"Einführung in Python3, Bernd Klein\", 3, 24.99],\n",
    "]\n",
    "\n",
    "result = list(map(lambda order: (order[0], order[2] * order[3] + (10 if order[2] * order[3] < 100 else 0)), orders))\n",
    "print(result)"
   ]
  },
  {
   "cell_type": "code",
   "execution_count": null,
   "id": "7386d42b-07a1-4426-bc05-e4461ed17f13",
   "metadata": {},
   "outputs": [],
   "source": []
  }
 ],
 "metadata": {
  "kernelspec": {
   "display_name": "Python 3 (ipykernel)",
   "language": "python",
   "name": "python3"
  },
  "language_info": {
   "codemirror_mode": {
    "name": "ipython",
    "version": 3
   },
   "file_extension": ".py",
   "mimetype": "text/x-python",
   "name": "python",
   "nbconvert_exporter": "python",
   "pygments_lexer": "ipython3",
   "version": "3.11.5"
  },
  "widgets": {
   "application/vnd.jupyter.widget-state+json": {
    "state": {},
    "version_major": 2,
    "version_minor": 0
   }
  }
 },
 "nbformat": 4,
 "nbformat_minor": 5
}
