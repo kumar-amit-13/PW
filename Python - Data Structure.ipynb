{
 "cells": [
  {
   "cell_type": "markdown",
   "id": "6c78fc61-ade6-4662-acd8-f401e9bc7160",
   "metadata": {},
   "source": [
    "# Theoretical Questions"
   ]
  },
  {
   "cell_type": "markdown",
   "id": "de0c2eed-494e-4b0b-bc56-9015f985fc90",
   "metadata": {},
   "source": [
    "#### 1. What are Data Structutes and why are they importent?"
   ]
  },
  {
   "cell_type": "markdown",
   "id": "8d9eb973-9ffd-4249-8123-a8af76587a33",
   "metadata": {},
   "source": [
    "Data structures are way of orgnizing, storing and managing data by which we can access and modify easly when we need.\n",
    "They are importent becuse by choosing the right data structure while working on any project its impact the effeciency and the performance of our program."
   ]
  },
  {
   "cell_type": "markdown",
   "id": "48450d35-52ca-48c6-a212-ef79591818e1",
   "metadata": {},
   "source": [
    "#### 2. Explain the difference between mutable and immutable data types with examples"
   ]
  },
  {
   "cell_type": "markdown",
   "id": "deffcfab-678a-4da6-8bd9-b03d80ef48fa",
   "metadata": {},
   "source": [
    "Mutable:- Those type of data type where we can change or modify after its creation.\n",
    "    example:\n",
    "    lst1 = [1,2,3]\n",
    "    list1[0] = 4\n",
    "    print(list1)   // output will be [4,2,3]\n",
    "\n",
    "Immutable:- Those type of data type where we can't be change after its creation.\n",
    "Example:\n",
    "tuple = (1,2,3)\n",
    "tuple[0]=5    // It will give error ie modification is not allowed "
   ]
  },
  {
   "cell_type": "markdown",
   "id": "879b779f-072f-472d-b28b-bd078789614e",
   "metadata": {},
   "source": [
    "#### 3. What are the main difference between lists and tuples in python ?"
   ]
  },
  {
   "cell_type": "markdown",
   "id": "f9e38395-ec80-40c7-9c50-3d3eb861ca30",
   "metadata": {},
   "source": [
    "Lists :-\n",
    "    List are mutable means we can modify after cration.\n",
    "    its define by [].\n",
    "    It is slower in performance becuse of mutability.\n",
    "    We can use methods like append(), pop(), remove() etc.\n",
    "\n",
    "Tupes :-\n",
    "    Tuples are immutable means we cant modify after creation.\n",
    "    Defined by ().\n",
    "    It if faster in performence as its immutable.\n",
    "    Methods used like count(), index()."
   ]
  },
  {
   "cell_type": "markdown",
   "id": "242b22e4-5da8-4714-95d3-50c3ec0bad23",
   "metadata": {},
   "source": [
    "#### 4. Discribe how dictionary stored data ?"
   ]
  },
  {
   "cell_type": "markdown",
   "id": "6bc10caf-b0d9-45a7-a156-bc968fd0ba06",
   "metadata": {},
   "source": [
    "Dictionary stored data in key value pair.\n",
    "\n",
    "example: \n",
    "my_dict = {\"Name\":\"Amit\", \"Adress\":\"Delhi\", \"Contact\":1234567890}\n",
    "\n",
    "Here \"Name\" is key and \"Amit is value\" and \"Name\":\"Amit\" is at index 0 of my_dict.\n",
    "In Simple way it looks like\n",
    "\n",
    "index      Key        Value\n",
    "  0        Name       Amit\n",
    "  1        Address    Delhi\n",
    "  2        Contact    1234567890"
   ]
  },
  {
   "cell_type": "markdown",
   "id": "2710c790-cd2a-4213-ad63-a386e202b1ab",
   "metadata": {},
   "source": [
    "#### 5. Why might you use a set insted of a list in python ?"
   ]
  },
  {
   "cell_type": "markdown",
   "id": "87442ed9-c54b-4dcd-a626-415875e1361f",
   "metadata": {},
   "source": [
    "Set is a unordered collection of unique elements and it does't allow duplicasy while list is a ordered colection of data and it allow duplicasy.\n",
    "So when we have to store employee_id in this case we prefer set not a list becuse employee_id must be unique.\n",
    "Sets are also provede operations like intersection, difference etc.\n",
    "\n",
    "Suppose there are two sets of employee_id who works on two different project so by using set we can get the data of those employee_id who working on both projects by intersection operation but List does't provide this type of features so we might use set insted of list."
   ]
  },
  {
   "cell_type": "markdown",
   "id": "ab9b43ab-0103-4292-b7ae-70a0c667a01a",
   "metadata": {},
   "source": [
    "#### 6. What is a string in python, and how it is different from list ?"
   ]
  },
  {
   "cell_type": "markdown",
   "id": "a6abb969-abcf-4622-9537-ff24fa8cf726",
   "metadata": {},
   "source": [
    "String is a sequence of charecter in single quot or double quots and it's unchangable while list is a ordered collection of data of various data type furthermore we can change or modify the elements.\n",
    "String is defined by '' or \"\" while list is defines as [].\n",
    "String support case conversion like upper(), lower(), title() while list is not.\n",
    "In string iterator will iterate on charecter while in list iterater iterates over element. "
   ]
  },
  {
   "cell_type": "markdown",
   "id": "3dcfeb4c-036e-47ec-8add-cec6930f1267",
   "metadata": {},
   "source": [
    "#### 7. How do tuples ensure data integrity in python ?"
   ]
  },
  {
   "cell_type": "markdown",
   "id": "1931551c-a422-44f7-86c2-c647256e7bc7",
   "metadata": {},
   "source": [
    "Tuples ensure data integrity as they are immutable which means their elements can't be changed after creation. This property provides a reliable and secure way to store data that will remains constant throughout the program."
   ]
  },
  {
   "cell_type": "markdown",
   "id": "8c04db19-2edc-404d-b1d8-cdf712eabea4",
   "metadata": {},
   "source": [
    "#### 8. What is hash table, and how does it relate to dictionaries in python ?"
   ]
  },
  {
   "cell_type": "markdown",
   "id": "6214cced-d1da-41c6-9946-6480996e2427",
   "metadata": {},
   "source": [
    "Hash table is data structure which provides fast and efficient way to store the data and reterive the data based on a key. It uses a hasing function to map keys to specific location in memory.\n",
    "\n",
    "Dictionaries are implemented using hash table means when we are declear a dictinary python convert it to hash table as python has inbuild function called hash() funation, it convert key into an integer ie hash value by which accessing the value for particular key is become easy."
   ]
  },
  {
   "cell_type": "markdown",
   "id": "75117804-4322-4fd1-87a5-b1abd599e020",
   "metadata": {},
   "source": [
    "#### 9. Can lists contain different data types in python ?"
   ]
  },
  {
   "cell_type": "markdown",
   "id": "2865c083-aef2-40cd-b99f-3ac8f986a108",
   "metadata": {},
   "source": [
    "YES, As per the definition lists are ordered coection of data of various data type, so it is capable to store the data of any type means what you want to store where it's a list, a set, a tuple, a string or a dictionary.\n",
    "\n",
    "list = [1, \"Amit\", (1,2), {4,5}, {\"Key\":\"Value\"}] // it will not throw any error "
   ]
  },
  {
   "cell_type": "markdown",
   "id": "4571e3d7-0dc4-48f0-ae4d-bf64b9c3d459",
   "metadata": {},
   "source": [
    "#### 10 Explain why strings are immutable in python"
   ]
  },
  {
   "cell_type": "markdown",
   "id": "2891e5e8-1db8-4e1e-a9f4-4d43b680267a",
   "metadata": {},
   "source": [
    "Strings in python are immutabe means we can't change after creation. This design contribute in python's efficency and overall performance.\n",
    "Python use a technique called string interning means it stored the identical string only once in memory and reuse it.\n",
    "like there are two strings s1=\"amit\" and s2=\"amit\" so here \"amit\" is stored once if we print(s1 is s2) gives True becuse both strings are identical and stored at the same memory location and its increse the effeciency thats why strings are immutable in python."
   ]
  },
  {
   "cell_type": "markdown",
   "id": "0cf04150-558a-43bf-a433-4ada57419328",
   "metadata": {},
   "source": [
    "#### 11. What advantages do dictionaries offer over lists for certain task ?"
   ]
  },
  {
   "cell_type": "markdown",
   "id": "4dc9e1bb-3c06-4b80-8467-fbcf77996b3d",
   "metadata": {},
   "source": [
    "Dictionary and list both are data structures in programming language and their use is depends on situation while implimenting it.\n",
    "If we want to store details of students in this situaltion we use dictionary insted of list.\n",
    "\n",
    "student_details = {\"student1\":{\"Name\":\"abc\",\"Course\":\"DS\"},\n",
    "                    \"Student2\":{\"Name\":\"abcd\",\"Course\":\"DA\"}}\n",
    "\n",
    "for the above example dictionary is more sutable while list is more complecated data structure. Dictioary is fast as compair to list becuse its use hash table by which accessing the element is more easy."
   ]
  },
  {
   "cell_type": "markdown",
   "id": "37dc07e0-8dd5-4c12-b361-be58816a9851",
   "metadata": {},
   "source": [
    "#### 12. Discribe a senario where using a tuple would be preferable over a list."
   ]
  },
  {
   "cell_type": "markdown",
   "id": "1980f286-ae10-4b73-ad54-3eb62b856e43",
   "metadata": {},
   "source": [
    "As we know that tupes are immutable while list are mutable means if we declear a tuple modification is not alowed.\n",
    "There is a senario where we use tuple :- If we are working on an application that requires a fixed set of configuration like implementing location so we have to set the latitude and longitude which should not change after creation."
   ]
  },
  {
   "cell_type": "markdown",
   "id": "0737e210-c218-4aab-af27-9386a3c0fa7a",
   "metadata": {},
   "source": [
    "#### 13. How do sets handle duplicate value in python ?"
   ]
  },
  {
   "cell_type": "markdown",
   "id": "802416ba-7828-4b74-a5ea-6a5dc7f798ae",
   "metadata": {},
   "source": [
    "Sets are unoredered collection of unique elements means duplicasy is not allowed and if we give duplicate value while creation of set, duplicate value will be removed and still if we add any duplicate element to it, it will ignore duplicate value and aaccept only unique elements."
   ]
  },
  {
   "cell_type": "markdown",
   "id": "12fcd87d-149d-498f-926d-1f51cf54f1ed",
   "metadata": {},
   "source": [
    "#### 14. How does the \"in\" keyword work differently for lists and dictionaries ?"
   ]
  },
  {
   "cell_type": "markdown",
   "id": "bde2cf0a-bc4e-47fc-b506-760871222cdf",
   "metadata": {},
   "source": [
    "When we use 'in' keyword in list it is going to search and access element in a sequential way until the value is found or its each to the end of list while in dictionary 'in' leades to every key of a dictionary not every value of dictionary."
   ]
  },
  {
   "cell_type": "markdown",
   "id": "8f45bb7f-2c52-47bd-a3b4-47bdd384829b",
   "metadata": {},
   "source": [
    "#### 15. Can you modify the elements of a tuple? explain why or why not ?"
   ]
  },
  {
   "cell_type": "markdown",
   "id": "e8c7449e-8057-4e7a-b5b4-8877eddf173d",
   "metadata": {},
   "source": [
    "NO, We can't modify the elements of tuple becuse it is immutable means it can't be modified once they are created. tuples are designed to represent fixed coection of data which makes them safer. If we trying to mofify the elements of tuple it will give error.\n",
    "As we know that tuple is immutable but it is able to contains mutable object like list in that situation we can modify that mutable elements ie list element otherwise we can't modify tuple elements."
   ]
  },
  {
   "cell_type": "markdown",
   "id": "43eec600-2800-41ea-8a22-b66e11c7d382",
   "metadata": {},
   "source": [
    "#### 16. What is nested dictionary, and give an example of its use case?"
   ]
  },
  {
   "cell_type": "markdown",
   "id": "c272d6c1-448d-47ec-b407-f416cd2d7e3c",
   "metadata": {},
   "source": [
    "Nested dictionary is dictionary inside dictionary. It is way to store structured data.\n",
    "example :- Storing the details of employee by employee code which is unique.\n",
    "\n",
    "nested_dictionary = {\n",
    "    \"employee_1\": {\"Name\":\"Amit kumar\", \"Profession\":\"Data Analyst\"},\n",
    "    \"employee_2\": {\"Name\":\"Ravi kumar\", \"Profession\":\"Data Scientist\"},\n",
    "    \"employee_3\": {\"Name\":\"Ranajn kumar\", \"Profession\":\"Data Codinator\"}\n",
    "}"
   ]
  },
  {
   "cell_type": "markdown",
   "id": "6bae869f-0042-4250-8d36-f28c19cc7b00",
   "metadata": {},
   "source": [
    "#### 17. Discribe the time complexity of accessing element in a dictionary."
   ]
  },
  {
   "cell_type": "markdown",
   "id": "3205c565-e857-45f4-8c26-78afa5c1be9e",
   "metadata": {},
   "source": [
    "Time complexity of accesssing element in dictionary in average case is O(1) becuse dictionary use hash table means python has inbuid funcion called hash() which comutes key to hash, this hash is determined as location or index of key valu pair and accessing element will be get easly. While in worst case it takes O(n) time which is rare. worst case will be rise due to hash collision. hash collision occure when two keys produce the same hash value then python use collision resolution machanism."
   ]
  },
  {
   "cell_type": "markdown",
   "id": "40b62d71-91c6-4eda-be25-ec91104ec68f",
   "metadata": {},
   "source": [
    "#### 18. In what situation lists preferred over dictionaries ?"
   ]
  },
  {
   "cell_type": "markdown",
   "id": "a944c060-0047-42c5-9355-9af2a857b723",
   "metadata": {},
   "source": [
    "Lists are oredred collection of elements while dictionaries are un-ordered collection of unique element. When we have to do task on sequential data then we use lists in lists we can access element by index but dictionary does't provide this. Lists are more preferable when we have to sort the elements becuse in list we can sort elements by sort() method while dictionry does't becuse it is accessable by key."
   ]
  },
  {
   "cell_type": "markdown",
   "id": "74875607-fb91-495e-9ef4-c521df5f6521",
   "metadata": {},
   "source": [
    "#### 19. Why are dictionaries considered unorder, and how does that effect data retrieval ?"
   ]
  },
  {
   "cell_type": "markdown",
   "id": "51ec08dc-f723-49db-a81d-e114dddbb87b",
   "metadata": {},
   "source": [
    "Dictionaries are unordered becuse of its internal structure based on hash table which does not maintain the order of key-value pair. It affect data retrieval as its retrieval machenism is based on hashing we can't retrive data by indexing like list, we must have use the key to retrive the crossponding value."
   ]
  },
  {
   "cell_type": "markdown",
   "id": "23f6613c-c387-4fe3-a93d-a3241d41d063",
   "metadata": {},
   "source": [
    "#### 20. Explain the difference between a list and a dictionary in term of data retrieval."
   ]
  },
  {
   "cell_type": "markdown",
   "id": "ded75b08-0d51-4ad2-acb9-e21c1266c394",
   "metadata": {},
   "source": [
    "Elements in lists are retrive using their index as indexing is sequential, means the first element at index 0, the second element at index 1 and so on. While elements in dictionaries are retrived using their key as key are unique.\n"
   ]
  },
  {
   "cell_type": "markdown",
   "id": "5174295d-ac90-449f-be89-3a4b9e9b1e0d",
   "metadata": {},
   "source": [
    "# Practical Questions"
   ]
  },
  {
   "cell_type": "markdown",
   "id": "8e5131f2-a70c-4fdf-8dbc-3eb888879385",
   "metadata": {},
   "source": [
    "#### 1. Write a code to create a string with your name and print it"
   ]
  },
  {
   "cell_type": "code",
   "execution_count": 59,
   "id": "d25611e1-5196-43c5-a303-6834918ada66",
   "metadata": {},
   "outputs": [
    {
     "name": "stdout",
     "output_type": "stream",
     "text": [
      "Amit Kumar\n"
     ]
    }
   ],
   "source": [
    "name = \"Amit Kumar\"\n",
    "print(name)"
   ]
  },
  {
   "cell_type": "markdown",
   "id": "3c5ac9e3-e265-4616-9162-c7886687fc1c",
   "metadata": {},
   "source": [
    "#### 2. Write a code to find the length of the string \"Hello World\"."
   ]
  },
  {
   "cell_type": "code",
   "execution_count": 60,
   "id": "7c828ce6-c53a-4734-b642-a0077bfe18e6",
   "metadata": {},
   "outputs": [
    {
     "name": "stdout",
     "output_type": "stream",
     "text": [
      "Length of string is :  11\n"
     ]
    }
   ],
   "source": [
    "str = \"Hello World\"\n",
    "print(\"Length of string is : \",len(str))"
   ]
  },
  {
   "cell_type": "markdown",
   "id": "dad36154-b7ff-4a81-aee5-3af2ed8bed8a",
   "metadata": {},
   "source": [
    "#### 3. Write a code to slice the first 3 characters from the string \"Python Programming\"."
   ]
  },
  {
   "cell_type": "code",
   "execution_count": 61,
   "id": "34d6dc18-01ba-49ad-b6c8-74e0abe94d7f",
   "metadata": {},
   "outputs": [
    {
     "name": "stdout",
     "output_type": "stream",
     "text": [
      "Pyth\n"
     ]
    }
   ],
   "source": [
    "str = \"Python Programming\"\n",
    "slice = str[:4]\n",
    "print(slice)"
   ]
  },
  {
   "cell_type": "markdown",
   "id": "d6c601ca-202a-45f2-b19f-3a4a7762b95e",
   "metadata": {},
   "source": [
    "#### 4. Write a code to convert the string \"hello\" to uppercaseE"
   ]
  },
  {
   "cell_type": "code",
   "execution_count": 62,
   "id": "7d0db4a2-f52d-4185-912b-b916db4563c3",
   "metadata": {},
   "outputs": [
    {
     "data": {
      "text/plain": [
       "'HELLO'"
      ]
     },
     "execution_count": 62,
     "metadata": {},
     "output_type": "execute_result"
    }
   ],
   "source": [
    "str = \"hello\"\n",
    "str.upper()"
   ]
  },
  {
   "cell_type": "markdown",
   "id": "775163b5-9b78-47a3-bef1-63ac0b6123c7",
   "metadata": {},
   "source": [
    "#### 5. Write a code to replace the word \"apple\" with \"orange\" in the string \"I like apple\"."
   ]
  },
  {
   "cell_type": "code",
   "execution_count": 63,
   "id": "0e73be49-b632-403c-a644-5854b8dd95f8",
   "metadata": {},
   "outputs": [
    {
     "data": {
      "text/plain": [
       "'I like orange'"
      ]
     },
     "execution_count": 63,
     "metadata": {},
     "output_type": "execute_result"
    }
   ],
   "source": [
    "string = \"I like apple\"\n",
    "string=string.replace(\"apple\",\"orange\")\n",
    "string"
   ]
  },
  {
   "cell_type": "markdown",
   "id": "7fbe0bb4-9e31-42e9-8b41-db34b28694c6",
   "metadata": {},
   "source": [
    "#### 6. Write a code to create a list with numbers 1 to 5 and print it."
   ]
  },
  {
   "cell_type": "code",
   "execution_count": 64,
   "id": "0ff1dc71-9a83-4662-b793-b1420453dbaf",
   "metadata": {},
   "outputs": [
    {
     "name": "stdout",
     "output_type": "stream",
     "text": [
      "[1, 2, 3, 4, 5]\n"
     ]
    }
   ],
   "source": [
    "list=[]\n",
    "for i in range(1,6):\n",
    "    list.append(i)\n",
    "print(list)"
   ]
  },
  {
   "cell_type": "markdown",
   "id": "78f6cf20-5b8f-49e0-aaf4-e622f75d2b35",
   "metadata": {},
   "source": [
    "#### 7. Write a code to append the number 10 to the list [1, 2, 3, 4]"
   ]
  },
  {
   "cell_type": "code",
   "execution_count": 65,
   "id": "1bb9a9f1-78fb-4890-b7eb-65e1fe9971e0",
   "metadata": {},
   "outputs": [
    {
     "name": "stdout",
     "output_type": "stream",
     "text": [
      "[1, 2, 3, 4, 10]\n"
     ]
    }
   ],
   "source": [
    "list = [1, 2, 3, 4]\n",
    "list.append(10)\n",
    "print(list)"
   ]
  },
  {
   "cell_type": "markdown",
   "id": "d6c617d0-4654-4817-95ac-f4ebb5aed18a",
   "metadata": {},
   "source": [
    "#### 8.  Write a code to remove the number 3 from the list [1, 2, 3, 4, 5]."
   ]
  },
  {
   "cell_type": "code",
   "execution_count": 66,
   "id": "da60f5df-80f4-47a0-adfa-9917d433f5f9",
   "metadata": {},
   "outputs": [
    {
     "data": {
      "text/plain": [
       "[1, 2, 4, 5]"
      ]
     },
     "execution_count": 66,
     "metadata": {},
     "output_type": "execute_result"
    }
   ],
   "source": [
    "list = [1,2,3,4,5]\n",
    "list.remove(3)\n",
    "list"
   ]
  },
  {
   "cell_type": "markdown",
   "id": "c1978540-5ab2-46e8-aabc-8f8a68e105e4",
   "metadata": {},
   "source": [
    "#### 9. Write a code to access the second element in the list ['a', 'b', 'c', 'd']."
   ]
  },
  {
   "cell_type": "code",
   "execution_count": 67,
   "id": "71a98a51-ad2b-42a9-8bc6-3a99f58a8131",
   "metadata": {},
   "outputs": [
    {
     "data": {
      "text/plain": [
       "'b'"
      ]
     },
     "execution_count": 67,
     "metadata": {},
     "output_type": "execute_result"
    }
   ],
   "source": [
    "list = ['a', 'b', 'c', 'd']\n",
    "list[1] #accessing second element"
   ]
  },
  {
   "cell_type": "markdown",
   "id": "ebaa04e3-9e6c-44cf-a649-0483075f49a3",
   "metadata": {},
   "source": [
    "#### 10. Write a code to reverse the list [10, 20, 30, 40, 50]."
   ]
  },
  {
   "cell_type": "code",
   "execution_count": 68,
   "id": "de942966-d221-4e28-bd07-fff827b7da0d",
   "metadata": {},
   "outputs": [
    {
     "name": "stdout",
     "output_type": "stream",
     "text": [
      "Using reverse method:  [50, 40, 30, 20, 10]\n",
      "Using loop:  [50, 40, 30, 20, 10]\n"
     ]
    }
   ],
   "source": [
    "list = [10, 20, 30, 40, 50]\n",
    "\n",
    "# using method reverse()\n",
    "list.reverse()\n",
    "print(\"Using reverse method: \",list)\n",
    "\n",
    "# using loop\n",
    "list.reverse() # Reversing list to remains same as given\n",
    "i = 0\n",
    "j = len(list)-1\n",
    "while(i < j):\n",
    "    temp=list[i]\n",
    "    list[i]=list[j]\n",
    "    list[j]=temp\n",
    "    i+=1\n",
    "    j-=1\n",
    "print(\"Using loop: \",list)"
   ]
  },
  {
   "cell_type": "markdown",
   "id": "8708b82a-44dc-4b13-ad7b-469672730603",
   "metadata": {},
   "source": [
    "#### 11. Write a code to create a tuple with the elements 10, 20, 30 and print it."
   ]
  },
  {
   "cell_type": "code",
   "execution_count": 69,
   "id": "7df8428b-8786-47be-9bef-fdb931883691",
   "metadata": {},
   "outputs": [
    {
     "name": "stdout",
     "output_type": "stream",
     "text": [
      "(10, 20, 30)\n"
     ]
    }
   ],
   "source": [
    "tuples = (10,20,30)\n",
    "print(tuples)"
   ]
  },
  {
   "cell_type": "markdown",
   "id": "193f5671-9f2b-46db-b0eb-41a7a75ce0ea",
   "metadata": {},
   "source": [
    "#### 12.  Write a code to access the first element of the tuple ('apple', 'banana', 'cherry')."
   ]
  },
  {
   "cell_type": "code",
   "execution_count": 70,
   "id": "594e2ce6-63a0-4aea-9883-0e2e17e523bb",
   "metadata": {},
   "outputs": [
    {
     "data": {
      "text/plain": [
       "'apple'"
      ]
     },
     "execution_count": 70,
     "metadata": {},
     "output_type": "execute_result"
    }
   ],
   "source": [
    "tuple = ('apple', 'banana', 'cherry')\n",
    "tuple[0]"
   ]
  },
  {
   "cell_type": "markdown",
   "id": "32847772-d450-4eb8-80f9-14eaf1c03349",
   "metadata": {},
   "source": [
    "#### 13. Write a code to count how many times the number 2 appears in the tuple (1, 2, 3, 2, 4, 2)."
   ]
  },
  {
   "cell_type": "code",
   "execution_count": 71,
   "id": "badd097e-9ec6-4482-9fca-fa01d0fe5adf",
   "metadata": {},
   "outputs": [
    {
     "data": {
      "text/plain": [
       "3"
      ]
     },
     "execution_count": 71,
     "metadata": {},
     "output_type": "execute_result"
    }
   ],
   "source": [
    "tuple = (1, 2, 3, 2, 4, 2)\n",
    "tuple.count(2)"
   ]
  },
  {
   "cell_type": "markdown",
   "id": "b448187a-b6fa-405c-8c1d-cb2ce1e4bea5",
   "metadata": {},
   "source": [
    "#### 14.  Write a code to find the index of the element \"cat\" in the tuple ('dog', 'cat', 'rabbit')."
   ]
  },
  {
   "cell_type": "code",
   "execution_count": 72,
   "id": "788c5abd-18a5-4622-b7a5-5b9ff4442b02",
   "metadata": {},
   "outputs": [
    {
     "data": {
      "text/plain": [
       "1"
      ]
     },
     "execution_count": 72,
     "metadata": {},
     "output_type": "execute_result"
    }
   ],
   "source": [
    "tuple = ('dog', 'cat', 'rabbit')\n",
    "tuple.index(\"cat\")"
   ]
  },
  {
   "cell_type": "markdown",
   "id": "006eb87d-4815-4574-8e0a-6a395d7a4188",
   "metadata": {},
   "source": [
    "#### 15. Write a code to check if the element \"banana\" is in the tuple ('apple', 'orange', 'banana')."
   ]
  },
  {
   "cell_type": "code",
   "execution_count": 73,
   "id": "ee52b1a7-1fec-48f8-a5f0-ddb30ce6fbe5",
   "metadata": {},
   "outputs": [
    {
     "data": {
      "text/plain": [
       "True"
      ]
     },
     "execution_count": 73,
     "metadata": {},
     "output_type": "execute_result"
    }
   ],
   "source": [
    "tuple = ('apple', 'orange', 'banana')\n",
    "\"banana\" in tuple"
   ]
  },
  {
   "cell_type": "markdown",
   "id": "140711a2-7cbb-4d82-ac29-ec335d8444c4",
   "metadata": {},
   "source": [
    "#### 16. Write a code to create a set with the elements 1, 2, 3, 4, 5 and print it."
   ]
  },
  {
   "cell_type": "code",
   "execution_count": 74,
   "id": "b785ad28-154b-4ad6-ad30-bc52b1f5504f",
   "metadata": {},
   "outputs": [
    {
     "name": "stdout",
     "output_type": "stream",
     "text": [
      "{1, 2, 3, 4, 5}\n"
     ]
    }
   ],
   "source": [
    "set = {1, 2, 3, 4, 5}\n",
    "print(set)"
   ]
  },
  {
   "cell_type": "markdown",
   "id": "a8b0ef22-6995-4002-a305-364a051b1bc8",
   "metadata": {},
   "source": [
    "#### 17. Write a code to add the element 6 to the set {1, 2, 3, 4}."
   ]
  },
  {
   "cell_type": "code",
   "execution_count": 75,
   "id": "a565ce46-f328-41d6-862c-5c8e50934db2",
   "metadata": {},
   "outputs": [
    {
     "data": {
      "text/plain": [
       "{1, 2, 3, 4, 6}"
      ]
     },
     "execution_count": 75,
     "metadata": {},
     "output_type": "execute_result"
    }
   ],
   "source": [
    "set = {1, 2, 3, 4}\n",
    "set.add(6)\n",
    "set"
   ]
  },
  {
   "cell_type": "markdown",
   "id": "ae28770a-4cd8-4ced-82f3-c7e2aaa57ee8",
   "metadata": {},
   "source": [
    "#### 18.  Write a code to create a tuple with the elements 10, 20, 30 and print it."
   ]
  },
  {
   "cell_type": "code",
   "execution_count": 76,
   "id": "7d995ff9-974c-4f08-953c-9488392b5a7a",
   "metadata": {},
   "outputs": [
    {
     "name": "stdout",
     "output_type": "stream",
     "text": [
      "(10, 20, 30)\n"
     ]
    }
   ],
   "source": [
    "tuples = (10,20,30)\n",
    "print(tuples)"
   ]
  },
  {
   "cell_type": "markdown",
   "id": "b99083f8-2745-4b3d-b948-cb4dafb17da4",
   "metadata": {},
   "source": [
    "#### 19. Write a code to access the first element of the tuple ('apple', 'banana', 'cherry')"
   ]
  },
  {
   "cell_type": "code",
   "execution_count": 77,
   "id": "68930d9e-6a6f-4e5f-a1cd-488b10f1727b",
   "metadata": {},
   "outputs": [
    {
     "data": {
      "text/plain": [
       "'apple'"
      ]
     },
     "execution_count": 77,
     "metadata": {},
     "output_type": "execute_result"
    }
   ],
   "source": [
    "tuple = ('apple', 'banana', 'cherry')\n",
    "tuple[0]"
   ]
  },
  {
   "cell_type": "markdown",
   "id": "7eb257c8-b5c3-44c7-bd11-a0b40250150b",
   "metadata": {},
   "source": [
    "#### 20. Write a code to count how many times the number 2 appears in the tuple (1, 2, 3, 2, 4, 2)."
   ]
  },
  {
   "cell_type": "code",
   "execution_count": 78,
   "id": "e8e7c1cc-621f-4d1b-b448-b2471dce9bf6",
   "metadata": {},
   "outputs": [
    {
     "data": {
      "text/plain": [
       "3"
      ]
     },
     "execution_count": 78,
     "metadata": {},
     "output_type": "execute_result"
    }
   ],
   "source": [
    "tuple = (1, 2, 3, 2, 4, 2)\n",
    "tuple.count(2)"
   ]
  },
  {
   "cell_type": "markdown",
   "id": "4b08a5a3-663b-412b-bdc2-d2e0d5f21b99",
   "metadata": {},
   "source": [
    "#### 21. Write a code to find the index of the element \"cat\" in the tuple ('dog', 'cat', 'rabbit')"
   ]
  },
  {
   "cell_type": "code",
   "execution_count": 79,
   "id": "244a782a-638e-44be-b1b9-b764e767719d",
   "metadata": {},
   "outputs": [
    {
     "data": {
      "text/plain": [
       "1"
      ]
     },
     "execution_count": 79,
     "metadata": {},
     "output_type": "execute_result"
    }
   ],
   "source": [
    "tuple = ('dog', 'cat', 'rabbit')\n",
    "tuple.index(\"cat\")"
   ]
  },
  {
   "cell_type": "markdown",
   "id": "e0791105-ac92-4b95-93ae-ce3d57a2203b",
   "metadata": {},
   "source": [
    "#### 22. Write a code to check if the element \"banana\" is in the tuple ('apple', 'orange', 'banana')."
   ]
  },
  {
   "cell_type": "code",
   "execution_count": 80,
   "id": "88e0e831-1421-46a2-871d-0cf467af461e",
   "metadata": {},
   "outputs": [
    {
     "data": {
      "text/plain": [
       "True"
      ]
     },
     "execution_count": 80,
     "metadata": {},
     "output_type": "execute_result"
    }
   ],
   "source": [
    "tuple = ('apple', 'orange', 'banana')\n",
    "\"banana\" in tuple"
   ]
  },
  {
   "cell_type": "markdown",
   "id": "b23f16ff-0e0d-4c81-b13f-36c86b4ea13a",
   "metadata": {},
   "source": [
    "#### 23. Write a code to create a set with the elements 1, 2, 3, 4, 5 and print it."
   ]
  },
  {
   "cell_type": "code",
   "execution_count": 81,
   "id": "97d083af-35fd-4261-8255-51dce91bc299",
   "metadata": {},
   "outputs": [
    {
     "name": "stdout",
     "output_type": "stream",
     "text": [
      "{1, 2, 3, 4, 5}\n"
     ]
    }
   ],
   "source": [
    "set = {1,2,3,4,5}\n",
    "print(set)"
   ]
  },
  {
   "cell_type": "markdown",
   "id": "ee3a6a77-dbd5-4708-9485-2be348246c05",
   "metadata": {},
   "source": [
    "#### 24. Write a code to add the element 6 to the set {1, 2, 3, 4}."
   ]
  },
  {
   "cell_type": "code",
   "execution_count": 82,
   "id": "2d2ac547-2ff2-4802-8b9b-0b64bab1c2d6",
   "metadata": {},
   "outputs": [
    {
     "data": {
      "text/plain": [
       "{1, 2, 3, 4, 6}"
      ]
     },
     "execution_count": 82,
     "metadata": {},
     "output_type": "execute_result"
    }
   ],
   "source": [
    "set = {1, 2, 3, 4}\n",
    "set.add(6)\n",
    "set"
   ]
  }
 ],
 "metadata": {
  "kernelspec": {
   "display_name": "Python 3 (ipykernel)",
   "language": "python",
   "name": "python3"
  },
  "language_info": {
   "codemirror_mode": {
    "name": "ipython",
    "version": 3
   },
   "file_extension": ".py",
   "mimetype": "text/x-python",
   "name": "python",
   "nbconvert_exporter": "python",
   "pygments_lexer": "ipython3",
   "version": "3.11.5"
  }
 },
 "nbformat": 4,
 "nbformat_minor": 5
}
